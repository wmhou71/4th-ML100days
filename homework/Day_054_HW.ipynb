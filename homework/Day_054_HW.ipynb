{
 "cells": [
  {
   "cell_type": "markdown",
   "metadata": {},
   "source": [
    "# 作業\n",
    "* 試著想想看, 非監督學習是否有可能使用評價函數 (Metric) 來鑑別好壞呢?  \n",
    "(Hint : 可以分為 \"有目標值\" 與 \"無目標值\" 兩個方向思考)"
   ]
  },
  {
   "cell_type": "markdown",
   "metadata": {
    "collapsed": true
   },
   "source": [
    "有目標值:各data與目標值的距離和(越小)  \n",
    "無目標值:同群間各data彼此距離和(越小)，以及與不同群資料距離和(越大)"
   ]
  },
  {
   "cell_type": "markdown",
   "metadata": {},
   "source": [
    "有目標值: 評估的方式類似分類問題, 但仍須確定生成的分類與原訂的標籤對照關係  \n",
    "無目標值: 接近非監督的性質本身, 同一群內資料越靠近/不同群資料越遠 是其主要考量"
   ]
  },
  {
   "cell_type": "markdown",
   "metadata": {},
   "source": [
    "參考資源:\n",
    "1. https://scikit-learn.org/stable/unsupervised_learning.html"
   ]
  }
 ],
 "metadata": {
  "kernelspec": {
   "display_name": "Python 3",
   "language": "python",
   "name": "python3"
  },
  "language_info": {
   "codemirror_mode": {
    "name": "ipython",
    "version": 3
   },
   "file_extension": ".py",
   "mimetype": "text/x-python",
   "name": "python",
   "nbconvert_exporter": "python",
   "pygments_lexer": "ipython3",
   "version": "3.6.5"
  }
 },
 "nbformat": 4,
 "nbformat_minor": 1
}
