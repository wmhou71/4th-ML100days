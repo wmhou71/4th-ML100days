{
 "cells": [
  {
   "cell_type": "markdown",
   "metadata": {},
   "source": [
    "## Work\n",
    "1. 試改變 monitor \"Validation Accuracy\" 並比較結果\n",
    "2. 調整 earlystop 的等待次數至 10, 25 並比較結果"
   ]
  },
  {
   "cell_type": "code",
   "execution_count": 1,
   "metadata": {},
   "outputs": [
    {
     "name": "stderr",
     "output_type": "stream",
     "text": [
      "Using TensorFlow backend.\n"
     ]
    }
   ],
   "source": [
    "import os\n",
    "import keras\n",
    "import matplotlib.pyplot as plt\n",
    "%matplotlib inline"
   ]
  },
  {
   "cell_type": "code",
   "execution_count": 2,
   "metadata": {},
   "outputs": [],
   "source": [
    "train, test = keras.datasets.cifar10.load_data()"
   ]
  },
  {
   "cell_type": "code",
   "execution_count": 3,
   "metadata": {},
   "outputs": [],
   "source": [
    "## 資料前處理\n",
    "def preproc_x(x, flatten=True):\n",
    "    x = x / 255.\n",
    "    if flatten:\n",
    "        x = x.reshape((len(x), -1))\n",
    "    return x\n",
    "\n",
    "def preproc_y(y, num_classes=10):\n",
    "    if y.shape[-1] == 1:\n",
    "        y = keras.utils.to_categorical(y, num_classes)\n",
    "    return y    "
   ]
  },
  {
   "cell_type": "code",
   "execution_count": 4,
   "metadata": {},
   "outputs": [],
   "source": [
    "x_train, y_train = train\n",
    "x_test, y_test = test\n",
    "\n",
    "# Preproc the inputs\n",
    "x_train = preproc_x(x_train)\n",
    "x_test = preproc_x(x_test)\n",
    "\n",
    "# Preprc the outputs\n",
    "y_train = preproc_y(y_train)\n",
    "y_test = preproc_y(y_test)"
   ]
  },
  {
   "cell_type": "code",
   "execution_count": 5,
   "metadata": {},
   "outputs": [],
   "source": [
    "from keras.layers import BatchNormalization\n",
    "\n",
    "\"\"\"\n",
    "建立神經網路，並加入 BN layer\n",
    "\"\"\"\n",
    "def build_mlp(input_shape, output_units=10, num_neurons=[512, 256, 128]):\n",
    "    input_layer = keras.layers.Input(input_shape)\n",
    "    \n",
    "    for i, n_units in enumerate(num_neurons):\n",
    "        if i == 0:\n",
    "            x = keras.layers.Dense(units=n_units, activation=\"relu\", name=\"hidden_layer\"+str(i+1))(input_layer)\n",
    "            x = BatchNormalization()(x)\n",
    "        else:\n",
    "            x = keras.layers.Dense(units=n_units, activation=\"relu\", name=\"hidden_layer\"+str(i+1))(x)\n",
    "            x = BatchNormalization()(x)\n",
    "    \n",
    "    out = keras.layers.Dense(units=output_units, activation=\"softmax\", name=\"output\")(x)\n",
    "    \n",
    "    model = keras.models.Model(inputs=[input_layer], outputs=[out])\n",
    "    return model"
   ]
  },
  {
   "cell_type": "code",
   "execution_count": 6,
   "metadata": {},
   "outputs": [],
   "source": [
    "## 超參數設定\n",
    "LEARNING_RATE = 1e-3\n",
    "EPOCHS = 30\n",
    "BATCH_SIZE = 1024\n",
    "MOMENTUM = 0.95"
   ]
  },
  {
   "cell_type": "code",
   "execution_count": 7,
   "metadata": {},
   "outputs": [
    {
     "name": "stdout",
     "output_type": "stream",
     "text": [
      "Experiment with patience of earlystop = 10\n",
      "Model: \"model_1\"\n",
      "_________________________________________________________________\n",
      "Layer (type)                 Output Shape              Param #   \n",
      "=================================================================\n",
      "input_1 (InputLayer)         (None, 3072)              0         \n",
      "_________________________________________________________________\n",
      "hidden_layer1 (Dense)        (None, 512)               1573376   \n",
      "_________________________________________________________________\n",
      "batch_normalization_1 (Batch (None, 512)               2048      \n",
      "_________________________________________________________________\n",
      "hidden_layer2 (Dense)        (None, 256)               131328    \n",
      "_________________________________________________________________\n",
      "batch_normalization_2 (Batch (None, 256)               1024      \n",
      "_________________________________________________________________\n",
      "hidden_layer3 (Dense)        (None, 128)               32896     \n",
      "_________________________________________________________________\n",
      "batch_normalization_3 (Batch (None, 128)               512       \n",
      "_________________________________________________________________\n",
      "output (Dense)               (None, 10)                1290      \n",
      "=================================================================\n",
      "Total params: 1,742,474\n",
      "Trainable params: 1,740,682\n",
      "Non-trainable params: 1,792\n",
      "_________________________________________________________________\n",
      "Train on 50000 samples, validate on 10000 samples\n",
      "Epoch 1/30\n",
      "50000/50000 [==============================] - 3s 58us/step - loss: 2.1820 - accuracy: 0.2796 - val_loss: 2.1286 - val_accuracy: 0.1960\n",
      "Epoch 2/30\n",
      "50000/50000 [==============================] - 3s 51us/step - loss: 1.7394 - accuracy: 0.3958 - val_loss: 1.9807 - val_accuracy: 0.2762\n",
      "Epoch 3/30\n",
      "50000/50000 [==============================] - 2s 46us/step - loss: 1.6120 - accuracy: 0.4376 - val_loss: 1.8244 - val_accuracy: 0.3604\n",
      "Epoch 4/30\n",
      "50000/50000 [==============================] - 2s 43us/step - loss: 1.5375 - accuracy: 0.4650 - val_loss: 1.7197 - val_accuracy: 0.3972\n",
      "Epoch 5/30\n",
      "50000/50000 [==============================] - 2s 42us/step - loss: 1.4829 - accuracy: 0.4830 - val_loss: 1.6260 - val_accuracy: 0.4361\n",
      "Epoch 6/30\n",
      "50000/50000 [==============================] - 2s 42us/step - loss: 1.4344 - accuracy: 0.5017 - val_loss: 1.5808 - val_accuracy: 0.4446\n",
      "Epoch 7/30\n",
      "50000/50000 [==============================] - 2s 42us/step - loss: 1.3933 - accuracy: 0.5151 - val_loss: 1.5388 - val_accuracy: 0.4571\n",
      "Epoch 8/30\n",
      "50000/50000 [==============================] - 2s 42us/step - loss: 1.3558 - accuracy: 0.5290 - val_loss: 1.5103 - val_accuracy: 0.4669\n",
      "Epoch 9/30\n",
      "50000/50000 [==============================] - 2s 42us/step - loss: 1.3224 - accuracy: 0.5399 - val_loss: 1.5022 - val_accuracy: 0.4716\n",
      "Epoch 10/30\n",
      "50000/50000 [==============================] - 2s 42us/step - loss: 1.2927 - accuracy: 0.5507 - val_loss: 1.4806 - val_accuracy: 0.4783\n",
      "Epoch 11/30\n",
      "50000/50000 [==============================] - 2s 42us/step - loss: 1.2640 - accuracy: 0.5625 - val_loss: 1.4743 - val_accuracy: 0.4801\n",
      "Epoch 12/30\n",
      "50000/50000 [==============================] - 2s 42us/step - loss: 1.2362 - accuracy: 0.5720 - val_loss: 1.4825 - val_accuracy: 0.4771\n",
      "Epoch 13/30\n",
      "50000/50000 [==============================] - 2s 41us/step - loss: 1.2101 - accuracy: 0.5810 - val_loss: 1.4623 - val_accuracy: 0.4858\n",
      "Epoch 14/30\n",
      "50000/50000 [==============================] - 2s 41us/step - loss: 1.1839 - accuracy: 0.5918 - val_loss: 1.4565 - val_accuracy: 0.4863\n",
      "Epoch 15/30\n",
      "50000/50000 [==============================] - 2s 43us/step - loss: 1.1601 - accuracy: 0.6009 - val_loss: 1.4512 - val_accuracy: 0.4889\n",
      "Epoch 16/30\n",
      "50000/50000 [==============================] - 2s 43us/step - loss: 1.1353 - accuracy: 0.6108 - val_loss: 1.4488 - val_accuracy: 0.4883\n",
      "Epoch 17/30\n",
      "50000/50000 [==============================] - 2s 46us/step - loss: 1.1105 - accuracy: 0.6204 - val_loss: 1.4618 - val_accuracy: 0.4909\n",
      "Epoch 18/30\n",
      "50000/50000 [==============================] - 2s 45us/step - loss: 1.0890 - accuracy: 0.6292 - val_loss: 1.4449 - val_accuracy: 0.4980\n",
      "Epoch 19/30\n",
      "50000/50000 [==============================] - 2s 45us/step - loss: 1.0654 - accuracy: 0.6368 - val_loss: 1.4454 - val_accuracy: 0.4991\n",
      "Epoch 20/30\n",
      "50000/50000 [==============================] - 2s 46us/step - loss: 1.0446 - accuracy: 0.6459 - val_loss: 1.4471 - val_accuracy: 0.4967\n",
      "Epoch 21/30\n",
      "50000/50000 [==============================] - 2s 46us/step - loss: 1.0193 - accuracy: 0.6559 - val_loss: 1.4378 - val_accuracy: 0.5019\n",
      "Epoch 22/30\n",
      "50000/50000 [==============================] - 2s 43us/step - loss: 0.9984 - accuracy: 0.6634 - val_loss: 1.4475 - val_accuracy: 0.4974\n",
      "Epoch 23/30\n",
      "50000/50000 [==============================] - 2s 42us/step - loss: 0.9778 - accuracy: 0.6721 - val_loss: 1.4657 - val_accuracy: 0.4930\n",
      "Epoch 24/30\n",
      "50000/50000 [==============================] - 2s 42us/step - loss: 0.9578 - accuracy: 0.6784 - val_loss: 1.4580 - val_accuracy: 0.5010\n",
      "Epoch 25/30\n",
      "50000/50000 [==============================] - 2s 42us/step - loss: 0.9380 - accuracy: 0.6870 - val_loss: 1.4575 - val_accuracy: 0.5008\n",
      "Epoch 26/30\n",
      "50000/50000 [==============================] - 2s 42us/step - loss: 0.9163 - accuracy: 0.6949 - val_loss: 1.4527 - val_accuracy: 0.5038\n",
      "Epoch 27/30\n",
      "50000/50000 [==============================] - 2s 42us/step - loss: 0.8949 - accuracy: 0.7033 - val_loss: 1.4555 - val_accuracy: 0.5037\n",
      "Epoch 28/30\n",
      "50000/50000 [==============================] - 2s 41us/step - loss: 0.8714 - accuracy: 0.7135 - val_loss: 1.4755 - val_accuracy: 0.4984\n",
      "Epoch 29/30\n",
      "50000/50000 [==============================] - 2s 41us/step - loss: 0.8531 - accuracy: 0.7188 - val_loss: 1.4714 - val_accuracy: 0.5072\n",
      "Epoch 30/30\n",
      "50000/50000 [==============================] - 2s 42us/step - loss: 0.8318 - accuracy: 0.7284 - val_loss: 1.4885 - val_accuracy: 0.5005\n",
      "Experiment with patience of earlystop = 25\n",
      "Model: \"model_1\"\n",
      "_________________________________________________________________\n",
      "Layer (type)                 Output Shape              Param #   \n",
      "=================================================================\n",
      "input_1 (InputLayer)         (None, 3072)              0         \n",
      "_________________________________________________________________\n",
      "hidden_layer1 (Dense)        (None, 512)               1573376   \n",
      "_________________________________________________________________\n",
      "batch_normalization_1 (Batch (None, 512)               2048      \n",
      "_________________________________________________________________\n",
      "hidden_layer2 (Dense)        (None, 256)               131328    \n",
      "_________________________________________________________________\n",
      "batch_normalization_2 (Batch (None, 256)               1024      \n",
      "_________________________________________________________________\n",
      "hidden_layer3 (Dense)        (None, 128)               32896     \n",
      "_________________________________________________________________\n",
      "batch_normalization_3 (Batch (None, 128)               512       \n",
      "_________________________________________________________________\n",
      "output (Dense)               (None, 10)                1290      \n",
      "=================================================================\n",
      "Total params: 1,742,474\n",
      "Trainable params: 1,740,682\n",
      "Non-trainable params: 1,792\n",
      "_________________________________________________________________\n",
      "Train on 50000 samples, validate on 10000 samples\n",
      "Epoch 1/30\n",
      "50000/50000 [==============================] - 2s 49us/step - loss: 2.2220 - accuracy: 0.2650 - val_loss: 2.1403 - val_accuracy: 0.1983\n",
      "Epoch 2/30\n",
      "50000/50000 [==============================] - 2s 42us/step - loss: 1.7460 - accuracy: 0.3904 - val_loss: 1.9561 - val_accuracy: 0.3126\n",
      "Epoch 3/30\n",
      "50000/50000 [==============================] - 2s 44us/step - loss: 1.6200 - accuracy: 0.4338 - val_loss: 1.8349 - val_accuracy: 0.3637\n",
      "Epoch 4/30\n",
      "50000/50000 [==============================] - 2s 44us/step - loss: 1.5435 - accuracy: 0.4590 - val_loss: 1.7284 - val_accuracy: 0.3973\n",
      "Epoch 5/30\n",
      "50000/50000 [==============================] - 2s 43us/step - loss: 1.4877 - accuracy: 0.4803 - val_loss: 1.6498 - val_accuracy: 0.4274\n",
      "Epoch 6/30\n"
     ]
    },
    {
     "name": "stdout",
     "output_type": "stream",
     "text": [
      "50000/50000 [==============================] - 2s 49us/step - loss: 1.4416 - accuracy: 0.4965 - val_loss: 1.5885 - val_accuracy: 0.4496\n",
      "Epoch 7/30\n",
      "50000/50000 [==============================] - 2s 44us/step - loss: 1.4021 - accuracy: 0.5111 - val_loss: 1.5549 - val_accuracy: 0.4531\n",
      "Epoch 8/30\n",
      "50000/50000 [==============================] - 2s 44us/step - loss: 1.3683 - accuracy: 0.5218 - val_loss: 1.5429 - val_accuracy: 0.4534\n",
      "Epoch 9/30\n",
      "50000/50000 [==============================] - 2s 41us/step - loss: 1.3351 - accuracy: 0.5329 - val_loss: 1.5083 - val_accuracy: 0.4649\n",
      "Epoch 10/30\n",
      "50000/50000 [==============================] - 2s 41us/step - loss: 1.3058 - accuracy: 0.5454 - val_loss: 1.5086 - val_accuracy: 0.4666\n",
      "Epoch 11/30\n",
      "50000/50000 [==============================] - 2s 41us/step - loss: 1.2770 - accuracy: 0.5569 - val_loss: 1.4953 - val_accuracy: 0.4749\n",
      "Epoch 12/30\n",
      "50000/50000 [==============================] - 2s 41us/step - loss: 1.2492 - accuracy: 0.5660 - val_loss: 1.4828 - val_accuracy: 0.4784\n",
      "Epoch 13/30\n",
      "50000/50000 [==============================] - 2s 41us/step - loss: 1.2229 - accuracy: 0.5773 - val_loss: 1.4787 - val_accuracy: 0.4728\n",
      "Epoch 14/30\n",
      "50000/50000 [==============================] - 2s 40us/step - loss: 1.1983 - accuracy: 0.5849 - val_loss: 1.4756 - val_accuracy: 0.4789\n",
      "Epoch 15/30\n",
      "50000/50000 [==============================] - 2s 41us/step - loss: 1.1749 - accuracy: 0.5943 - val_loss: 1.4770 - val_accuracy: 0.4794\n",
      "Epoch 16/30\n",
      "50000/50000 [==============================] - 2s 41us/step - loss: 1.1513 - accuracy: 0.6013 - val_loss: 1.4787 - val_accuracy: 0.4776\n",
      "Epoch 17/30\n",
      "50000/50000 [==============================] - 2s 40us/step - loss: 1.1289 - accuracy: 0.6105 - val_loss: 1.4738 - val_accuracy: 0.4857\n",
      "Epoch 18/30\n",
      "50000/50000 [==============================] - 2s 41us/step - loss: 1.1068 - accuracy: 0.6193 - val_loss: 1.4692 - val_accuracy: 0.4865\n",
      "Epoch 19/30\n",
      "50000/50000 [==============================] - 2s 40us/step - loss: 1.0847 - accuracy: 0.6292 - val_loss: 1.4644 - val_accuracy: 0.4849\n",
      "Epoch 20/30\n",
      "50000/50000 [==============================] - 2s 41us/step - loss: 1.0618 - accuracy: 0.6361 - val_loss: 1.4668 - val_accuracy: 0.4876\n",
      "Epoch 21/30\n",
      "50000/50000 [==============================] - 2s 41us/step - loss: 1.0423 - accuracy: 0.6428 - val_loss: 1.4796 - val_accuracy: 0.4840\n",
      "Epoch 22/30\n",
      "50000/50000 [==============================] - 2s 41us/step - loss: 1.0208 - accuracy: 0.6532 - val_loss: 1.4760 - val_accuracy: 0.4937\n",
      "Epoch 23/30\n",
      "50000/50000 [==============================] - 2s 41us/step - loss: 0.9989 - accuracy: 0.6605 - val_loss: 1.4666 - val_accuracy: 0.4934\n",
      "Epoch 24/30\n",
      "50000/50000 [==============================] - 2s 41us/step - loss: 0.9758 - accuracy: 0.6673 - val_loss: 1.4767 - val_accuracy: 0.4911\n",
      "Epoch 25/30\n",
      "50000/50000 [==============================] - 2s 41us/step - loss: 0.9557 - accuracy: 0.6778 - val_loss: 1.4960 - val_accuracy: 0.4853\n",
      "Epoch 26/30\n",
      "50000/50000 [==============================] - 2s 41us/step - loss: 0.9355 - accuracy: 0.6855 - val_loss: 1.4927 - val_accuracy: 0.4891\n",
      "Epoch 27/30\n",
      "50000/50000 [==============================] - 2s 41us/step - loss: 0.9165 - accuracy: 0.6921 - val_loss: 1.5088 - val_accuracy: 0.4852\n",
      "Epoch 28/30\n",
      "50000/50000 [==============================] - 2s 41us/step - loss: 0.8962 - accuracy: 0.7014 - val_loss: 1.5047 - val_accuracy: 0.4898\n",
      "Epoch 29/30\n",
      "50000/50000 [==============================] - 2s 43us/step - loss: 0.8764 - accuracy: 0.7085 - val_loss: 1.4997 - val_accuracy: 0.4947\n",
      "Epoch 30/30\n",
      "50000/50000 [==============================] - 2s 41us/step - loss: 0.8558 - accuracy: 0.7153 - val_loss: 1.5064 - val_accuracy: 0.4904\n"
     ]
    }
   ],
   "source": [
    "# 載入 Callbacks, 並將 monitor 設定為監控 validation accuracy\n",
    "from keras.callbacks import EarlyStopping\n",
    "results={}\n",
    "\n",
    "for es in [10, 25]:\n",
    "    keras.backend.clear_session() # 把舊的 Graph 清掉\n",
    "    print(\"Experiment with patience of earlystop = %d\" % (es))\n",
    "    earlystop = EarlyStopping(monitor=\"val_accuracy\", patience=es, verbose=1)\n",
    "    \n",
    "    model = build_mlp(input_shape=x_train.shape[1:])\n",
    "    model.summary()\n",
    "    optimizer = keras.optimizers.SGD(lr=LEARNING_RATE, nesterov=True, momentum=MOMENTUM)\n",
    "    model.compile(loss=\"categorical_crossentropy\", metrics=[\"accuracy\"], optimizer=optimizer)\n",
    "\n",
    "    model.fit(x_train, y_train, \n",
    "              epochs=EPOCHS, \n",
    "              batch_size=BATCH_SIZE, \n",
    "              validation_data=(x_test, y_test), \n",
    "              shuffle=True,\n",
    "              callbacks=[earlystop])\n",
    "\n",
    "    # Collect results\n",
    "    train_loss = model.history.history[\"loss\"]\n",
    "    valid_loss = model.history.history[\"val_loss\"]\n",
    "    train_acc = model.history.history[\"accuracy\"]\n",
    "    valid_acc = model.history.history[\"val_accuracy\"]\n",
    "\n",
    "    exp_name_tag = \"exp-patience-%s\" % (str(es))\n",
    "    results[exp_name_tag] = {'train-loss': train_loss,\n",
    "                             'valid-loss': valid_loss,\n",
    "                             'train-acc': train_acc,\n",
    "                             'valid-acc': valid_acc}"
   ]
  },
  {
   "cell_type": "code",
   "execution_count": 8,
   "metadata": {},
   "outputs": [
    {
     "data": {
      "image/png": "[encoded data removed]",
      "text/plain": [
       "<Figure size 576x432 with 1 Axes>"
      ]
     },
     "metadata": {
      "needs_background": "light"
     },
     "output_type": "display_data"
    },
    {
     "data": {
      "image/png": "[encoded data removed]",
      "text/plain": [
       "<Figure size 576x432 with 1 Axes>"
      ]
     },
     "metadata": {
      "needs_background": "light"
     },
     "output_type": "display_data"
    }
   ],
   "source": [
    "import matplotlib.pyplot as plt\n",
    "%matplotlib inline\n",
    "color_bar = [\"b\", \"r\"]\n",
    "\n",
    "plt.figure(figsize=(8,6))\n",
    "for i, cond in enumerate(results.keys()):\n",
    "    plt.plot(range(len(results[cond]['train-loss'])),results[cond]['train-loss'], '-', label=cond, color=color_bar[i])\n",
    "    plt.plot(range(len(results[cond]['valid-loss'])),results[cond]['valid-loss'], '--', label=cond, color=color_bar[i])\n",
    "plt.title(\"Loss\")\n",
    "plt.legend()\n",
    "plt.show()\n",
    "\n",
    "plt.figure(figsize=(8,6))\n",
    "for i, cond in enumerate(results.keys()):\n",
    "    plt.plot(range(len(results[cond]['train-acc'])),results[cond]['train-acc'], '-', label=cond, color=color_bar[i])\n",
    "    plt.plot(range(len(results[cond]['valid-acc'])),results[cond]['valid-acc'], '--', label=cond, color=color_bar[i])\n",
    "plt.title(\"Accuracy\")\n",
    "plt.legend()\n",
    "plt.show()\n"
   ]
  },
  {
   "cell_type": "code",
   "execution_count": null,
   "metadata": {},
   "outputs": [],
   "source": []
  }
 ],
 "metadata": {
  "kernelspec": {
   "display_name": "Python 3",
   "language": "python",
   "name": "python3"
  },
  "language_info": {
   "codemirror_mode": {
    "name": "ipython",
    "version": 3
   },
   "file_extension": ".py",
   "mimetype": "text/x-python",
   "name": "python",
   "nbconvert_exporter": "python",
   "pygments_lexer": "ipython3",
   "version": "3.7.7"
  }
 },
 "nbformat": 4,
 "nbformat_minor": 2
}
