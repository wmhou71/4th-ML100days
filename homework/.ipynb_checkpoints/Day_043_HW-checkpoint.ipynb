{
 "cells": [
  {
   "cell_type": "markdown",
   "metadata": {},
   "source": [
    "## [作業重點]\n",
    "了解隨機森林改善了決策樹的什麼缺點？是用什麼方法改進的？"
   ]
  },
  {
   "cell_type": "markdown",
   "metadata": {},
   "source": [
    "## 作業\n",
    "\n",
    "閱讀以下兩篇文獻，了解隨機森林原理，並試著回答後續的思考問題\n",
    "- [隨機森林 (random forest) - 中文](http://hhtucode.blogspot.tw/2013/06/ml-random-forest.html)\n",
    "- [how random forest works - 英文](https://medium.com/@Synced/how-random-forest-algorithm-works-in-machine-learning-3c0fe15b6674)"
   ]
  },
  {
   "cell_type": "markdown",
   "metadata": {},
   "source": [
    "\n",
    "1. 隨機森林中的每一棵樹，是希望能夠\n",
    "\n",
    "    - 沒有任何限制，讓樹可以持續生長 (讓樹生成很深，讓模型變得複雜)\n",
    "    \n",
    "    - 不要過度生長，避免 Overfitting\n",
    "    \n",
    "    \n",
    "2. 假設總共有 N 筆資料，每棵樹用取後放回的方式抽了總共 N 筆資料生成，請問這棵樹大約使用了多少 % 不重複的原資料生成?\n",
    "hint: 0.632 bootstrap\n"
   ]
  },
  {
   "cell_type": "markdown",
   "metadata": {},
   "source": [
    "這是傳統的統計問題，採用取後放回的方式，抽取與資料量同樣大小的 N 筆資料，約會使用 63.2 % 的原生資料。"
   ]
  },
  {
   "cell_type": "markdown",
   "metadata": {},
   "source": [
    "[Remark]   \n",
    "n個樣本，依放回的隨機從中抽取n次\n",
    "\n",
    "每一次抽取時，樣本A被選中的機率是$\\frac{1}{n}$，沒抽中的機率為$1-\\frac{1}{n}$。每次抽取皆為獨立，所以當抽完n次之後，A一次都没有被抽中的機率就是  \n",
    "\n",
    "$(1-\\frac{1}{n})^{n}$  \n",
    "\n",
    "引用微積分中極限式  $\\lim_{n\\to\\infty}(1-\\frac{1}{n})^{n}=\\frac{1}{e}$\n",
    "\n",
    "\n",
    "所以當bootstrap樣本總數很大的时候，任意樣本被抽中的機率就是$(1-\\frac{1}{e})=(1-\\frac{1}{2.71828})≈0.632 $  "
   ]
  },
  {
   "cell_type": "markdown",
   "metadata": {},
   "source": [
    "#### 數學參考\n",
    "1. http://sofasofa.io/forum_main_post.php?postid=1000691\n",
    "2. https://www.zhihu.com/question/66848041"
   ]
  }
 ],
 "metadata": {
  "kernelspec": {
   "display_name": "Python 3",
   "language": "python",
   "name": "python3"
  },
  "language_info": {
   "codemirror_mode": {
    "name": "ipython",
    "version": 3
   },
   "file_extension": ".py",
   "mimetype": "text/x-python",
   "name": "python",
   "nbconvert_exporter": "python",
   "pygments_lexer": "ipython3",
   "version": "3.6.5"
  }
 },
 "nbformat": 4,
 "nbformat_minor": 2
}
