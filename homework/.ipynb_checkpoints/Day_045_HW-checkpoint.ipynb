{
 "cells": [
  {
   "cell_type": "markdown",
   "metadata": {},
   "source": [
    "集成學習(ensemble)\n",
    "Decision Tree\n",
    "Bagging: Random Forest →透過抽樣(sampling) 的方式來生成每一棵樹，樹與樹之間是獨立生成的\n",
    "Boosting: Gradient Boosting Decision Tree(GBDT) →透過序列(additive)的方式來生成每一顆樹，每棵樹都會與前面的樹關聯，因為後面的樹要能夠修正"
   ]
  }
 ],
 "metadata": {
  "kernelspec": {
   "display_name": "Python 3",
   "language": "python",
   "name": "python3"
  },
  "language_info": {
   "codemirror_mode": {
    "name": "ipython",
    "version": 3
   },
   "file_extension": ".py",
   "mimetype": "text/x-python",
   "name": "python",
   "nbconvert_exporter": "python",
   "pygments_lexer": "ipython3",
   "version": "3.6.5"
  }
 },
 "nbformat": 4,
 "nbformat_minor": 2
}
