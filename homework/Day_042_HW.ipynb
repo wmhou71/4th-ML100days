{
 "cells": [
  {
   "cell_type": "markdown",
   "metadata": {},
   "source": [
    "## [作業重點]\n",
    "目前你應該已經要很清楚資料集中，資料的型態是什麼樣子囉！包含特徵 (features) 與標籤 (labels)。因此要記得未來不管什麼專案，必須要把資料清理成相同的格式，才能送進模型訓練。\n",
    "今天的作業開始踏入決策樹這個非常重要的模型，請務必確保你理解模型中每個超參數的意思，並試著調整看看，對最終預測結果的影響為何"
   ]
  },
  {
   "cell_type": "markdown",
   "metadata": {},
   "source": [
    "## 作業\n",
    "\n",
    "1. 試著調整 DecisionTreeClassifier(...) 中的參數，並觀察是否會改變結果？\n",
    "2. 改用其他資料集 (boston, wine)，並與回歸模型的結果進行比較"
   ]
  },
  {
   "cell_type": "code",
   "execution_count": 1,
   "metadata": {},
   "outputs": [],
   "source": [
    "import pandas as pd\n",
    "from sklearn import datasets, metrics\n",
    "\n",
    "# 如果是分類問題，請使用 DecisionTreeClassifier，若為回歸問題，請使用 DecisionTreeRegressor\n",
    "from sklearn.tree import DecisionTreeClassifier, DecisionTreeRegressor\n",
    "from sklearn.model_selection import train_test_split\n",
    "from sklearn.metrics import mean_squared_error, r2_score"
   ]
  },
  {
   "cell_type": "markdown",
   "metadata": {},
   "source": [
    "### 建立模型四步驟\n",
    "在 Scikit-learn 中，建立一個機器學習的模型其實非常簡單，流程大略是以下四個步驟  \n",
    "\n",
    "1. 讀進資料，並檢查資料的 shape (有多少 samples (rows), 多少 features (columns)，label 的型態是什麼？)  \n",
    "讀取資料的方法：  \n",
    "使用 pandas 讀取 .csv 檔：pd.read_csv  \n",
    "使用 numpy 讀取 .txt 檔：np.loadtxt  \n",
    "使用 Scikit-learn 內建的資料集：sklearn.datasets.load_xxx  \n",
    "檢查資料數量：data.shape (data should be np.array or dataframe)  \n",
    "2. 將資料切為訓練 (train) / 測試 (test)  \n",
    "  train_test_split(data)\n",
    "3. 建立模型，將資料 fit 進模型開始訓練  \n",
    "clf = DecisionTreeClassifier()  \n",
    "clf.fit(x_train, y_train)\n",
    "4. 將測試資料 (features) 放進訓練好的模型中，得到 prediction，與測試資料的 label (y_test) 做評估  \n",
    "clf.predict(x_test)  \n",
    "accuracy_score(y_test, y_pred)  \n",
    "f1_score(y_test, y_pred)  "
   ]
  },
  {
   "cell_type": "markdown",
   "metadata": {},
   "source": [
    "#### Dataset IRIS"
   ]
  },
  {
   "cell_type": "code",
   "execution_count": 2,
   "metadata": {},
   "outputs": [
    {
     "name": "stdout",
     "output_type": "stream",
     "text": [
      "Acuuracy:  0.9736842105263158\n",
      "            features  importances\n",
      "0  sepal length (cm)     0.000000\n",
      "1   sepal width (cm)     0.017966\n",
      "2  petal length (cm)     0.059924\n",
      "3   petal width (cm)     0.922110\n"
     ]
    }
   ],
   "source": [
    "# 讀取鳶尾花資料集\n",
    "iris = datasets.load_iris()\n",
    "# 切分訓練集/測試集\n",
    "x_train, x_test, y_train, y_test = train_test_split(iris.data, iris.target, test_size=0.25, random_state=4)\n",
    "# 建立模型\n",
    "clf = DecisionTreeClassifier()\n",
    "# 訓練模型\n",
    "clf.fit(x_train, y_train)\n",
    "# 預測測試集\n",
    "y_pred = clf.predict(x_test)\n",
    "\n",
    "acc = metrics.accuracy_score(y_test, y_pred)\n",
    "print(\"Acuuracy: \", acc)\n",
    "\n",
    "dict = {\"features\": iris.feature_names, \"importances\": clf.feature_importances_ }\n",
    "select_df = pd.DataFrame(dict)\n",
    "print(select_df)"
   ]
  },
  {
   "cell_type": "markdown",
   "metadata": {},
   "source": [
    "#### Dataset BOSTON"
   ]
  },
  {
   "cell_type": "code",
   "execution_count": 3,
   "metadata": {},
   "outputs": [
    {
     "name": "stdout",
     "output_type": "stream",
     "text": [
      "MSE:  26.34629921259842\n",
      "   features  importances\n",
      "0      CRIM     0.065927\n",
      "1        ZN     0.002177\n",
      "2     INDUS     0.008894\n",
      "3      CHAS     0.000053\n",
      "4       NOX     0.028675\n",
      "5        RM     0.541745\n",
      "6       AGE     0.015328\n",
      "7       DIS     0.066598\n",
      "8       RAD     0.005448\n",
      "9       TAX     0.012772\n",
      "10  PTRATIO     0.019825\n",
      "11        B     0.010514\n",
      "12    LSTAT     0.222043\n"
     ]
    }
   ],
   "source": [
    "boston = datasets.load_boston()\n",
    "x_train, x_test, y_train, y_test = train_test_split(boston.data, boston.target, test_size=0.25, random_state=4)\n",
    "reg = DecisionTreeRegressor()\n",
    "reg.fit(x_train, y_train)\n",
    "# 預測測試集\n",
    "y_pred = reg.predict(x_test)\n",
    "\n",
    "mse = mean_squared_error(y_test, y_pred)\n",
    "print(\"MSE: \", mse)\n",
    "\n",
    "dict = {\"features\": boston.feature_names, \"importances\": reg.feature_importances_ }\n",
    "select_df = pd.DataFrame(dict)\n",
    "print(select_df)"
   ]
  },
  {
   "cell_type": "markdown",
   "metadata": {},
   "source": [
    "#### Dataset WINE"
   ]
  },
  {
   "cell_type": "code",
   "execution_count": 4,
   "metadata": {},
   "outputs": [
    {
     "name": "stdout",
     "output_type": "stream",
     "text": [
      "Acuuracy:  0.8888888888888888\n",
      "                        features  importances\n",
      "0                        alcohol     0.013641\n",
      "1                     malic_acid     0.030766\n",
      "2                            ash     0.000000\n",
      "3              alcalinity_of_ash     0.000000\n",
      "4                      magnesium     0.044051\n",
      "5                  total_phenols     0.000000\n",
      "6                     flavanoids     0.124552\n",
      "7           nonflavanoid_phenols     0.000000\n",
      "8                proanthocyanins     0.000000\n",
      "9                color_intensity     0.337025\n",
      "10                           hue     0.018459\n",
      "11  od280/od315_of_diluted_wines     0.042856\n",
      "12                       proline     0.388650\n"
     ]
    }
   ],
   "source": [
    "wine = datasets.load_wine()\n",
    "x_train, x_test, y_train, y_test = train_test_split(wine.data, wine.target, test_size=0.25, random_state=4)\n",
    "clf = DecisionTreeClassifier()\n",
    "clf.fit(x_train, y_train)\n",
    "y_pred = clf.predict(x_test)\n",
    "\n",
    "acc = metrics.accuracy_score(y_test, y_pred)\n",
    "print(\"Acuuracy: \", acc)\n",
    "\n",
    "dict = {\"features\": wine.feature_names, \"importances\": clf.feature_importances_ }\n",
    "select_df = pd.DataFrame(dict)\n",
    "print(select_df)"
   ]
  }
 ],
 "metadata": {
  "kernelspec": {
   "display_name": "Python 3",
   "language": "python",
   "name": "python3"
  },
  "language_info": {
   "codemirror_mode": {
    "name": "ipython",
    "version": 3
   },
   "file_extension": ".py",
   "mimetype": "text/x-python",
   "name": "python",
   "nbconvert_exporter": "python",
   "pygments_lexer": "ipython3",
   "version": "3.6.5"
  }
 },
 "nbformat": 4,
 "nbformat_minor": 2
}
