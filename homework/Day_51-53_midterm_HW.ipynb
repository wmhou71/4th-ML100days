{
 "cells": [
  {
   "cell_type": "code",
   "execution_count": 1,
   "metadata": {},
   "outputs": [],
   "source": [
    "import os\n",
    "import numpy as np\n",
    "import pandas as pd\n",
    "\n",
    "# 如果是分類問題，請使用 DecisionTreeClassifier，若為回歸問題，請使用 DecisionTreeRegressor\n",
    "from sklearn import metrics\n",
    "from sklearn.preprocessing import LabelEncoder, MinMaxScaler, StandardScaler\n",
    "from sklearn.tree import DecisionTreeClassifier\n",
    "from sklearn.ensemble import GradientBoostingClassifier\n",
    "from sklearn.model_selection import train_test_split"
   ]
  },
  {
   "cell_type": "code",
   "execution_count": 2,
   "metadata": {},
   "outputs": [],
   "source": [
    "# 讀取檔案\n",
    "data_path = './data/mid-term competition/'\n",
    "df_train = pd.read_csv(data_path + 'train_data.csv', header = 0)\n",
    "df_test = pd.read_csv(data_path + 'test_features.csv', header = 0)"
   ]
  },
  {
   "cell_type": "code",
   "execution_count": 3,
   "metadata": {},
   "outputs": [
    {
     "name": "stdout",
     "output_type": "stream",
     "text": [
      "<class 'pandas.core.frame.DataFrame'>\n",
      "RangeIndex: 113 entries, 0 to 112\n",
      "Data columns (total 22 columns):\n",
      " #   Column                     Non-Null Count  Dtype  \n",
      "---  ------                     --------------  -----  \n",
      " 0   name                       113 non-null    object \n",
      " 1   email_address              83 non-null     object \n",
      " 2   salary                     73 non-null     float64\n",
      " 3   bonus                      61 non-null     float64\n",
      " 4   long_term_incentive        49 non-null     float64\n",
      " 5   deferred_income            34 non-null     float64\n",
      " 6   deferral_payments          28 non-null     float64\n",
      " 7   loan_advances              2 non-null      float64\n",
      " 8   other                      69 non-null     float64\n",
      " 9   expenses                   73 non-null     float64\n",
      " 10  director_fees              13 non-null     float64\n",
      " 11  total_payments             96 non-null     float64\n",
      " 12  exercised_stock_options    81 non-null     float64\n",
      " 13  restricted_stock           82 non-null     float64\n",
      " 14  restricted_stock_deferred  10 non-null     float64\n",
      " 15  total_stock_value          98 non-null     float64\n",
      " 16  from_messages              65 non-null     float64\n",
      " 17  to_messages                65 non-null     float64\n",
      " 18  from_poi_to_this_person    65 non-null     float64\n",
      " 19  from_this_person_to_poi    65 non-null     float64\n",
      " 20  shared_receipt_with_poi    65 non-null     float64\n",
      " 21  poi                        113 non-null    bool   \n",
      "dtypes: bool(1), float64(19), object(2)\n",
      "memory usage: 18.8+ KB\n"
     ]
    }
   ],
   "source": [
    "df_train.info()"
   ]
  },
  {
   "cell_type": "code",
   "execution_count": 4,
   "metadata": {},
   "outputs": [],
   "source": [
    "df_train_labels = df_train['poi']\n",
    "df_train_features = df_train.drop(['poi', 'name', 'email_address'] , axis=1)\n",
    "\n",
    "df_train_labels = LabelEncoder().fit_transform(df_train_labels)\n",
    "df_train_features.fillna(value=-1, inplace=True)\n",
    "df_train_features = StandardScaler().fit_transform(df_train_features)"
   ]
  },
  {
   "cell_type": "code",
   "execution_count": 5,
   "metadata": {},
   "outputs": [
    {
     "name": "stdout",
     "output_type": "stream",
     "text": [
      "Acuuracy:  0.9166666666666666\n"
     ]
    }
   ],
   "source": [
    "x_train, x_valid, y_train, y_valid = train_test_split(df_train_features, df_train_labels, test_size=0.1, random_state=4)\n",
    "clf = GradientBoostingClassifier()\n",
    "clf.fit(x_train, y_train)\n",
    "y_pred = clf.predict(x_valid)\n",
    "\n",
    "acc = metrics.accuracy_score(y_valid, y_pred)\n",
    "print(\"Acuuracy: \", acc)"
   ]
  },
  {
   "cell_type": "code",
   "execution_count": 6,
   "metadata": {},
   "outputs": [],
   "source": [
    "test_feature = []\n",
    "for dtype,feature in zip(df_test.dtypes,df_test.columns):\n",
    "    if dtype == 'float64' or dtype == 'int64':\n",
    "        test_feature.append(feature)\n",
    "x_test = df_test[test_feature]\n",
    "x_test = x_test.fillna(-1)\n",
    "x_test = StandardScaler().fit_transform(x_test)\n",
    "\n",
    "y_prediction = clf.predict_proba(x_test)"
   ]
  },
  {
   "cell_type": "code",
   "execution_count": 9,
   "metadata": {},
   "outputs": [
    {
     "name": "stdout",
     "output_type": "stream",
     "text": [
      "                    name       poi\n",
      "0       BELDEN TIMOTHY N  0.168540\n",
      "1     BOWEN JR RAYMOND M  0.000473\n",
      "2         HANNON KEVIN P  0.000304\n",
      "3       DELAINEY DAVID W  0.001336\n",
      "4       CAUSEY RICHARD A  0.000587\n",
      "5       HICKERSON GARY J  0.000229\n",
      "6         FREVERT MARK A  0.044181\n",
      "7            CHAN RONNIE  0.000077\n",
      "8   DONAHUE JR JEFFREY M  0.002398\n",
      "9      REYNOLDS LAWRENCE  0.000201\n",
      "10      HORTON STANLEY C  0.003099\n",
      "11         LEWIS RICHARD  0.000167\n",
      "12    SHERRICK JEFFREY B  0.000232\n",
      "13        MEYER JEROME J  0.000167\n",
      "14   DERRICK JR. JAMES V  0.001004\n",
      "15              PIRO JIM  0.000167\n",
      "16   DETMERING TIMOTHY J  0.000201\n",
      "17     KISHKILL JOSEPH G  0.000167\n",
      "18        BAY FRANKLIN R  0.000201\n",
      "19        PRENTICE JAMES  0.000167\n",
      "20                 TOTAL  0.929982\n",
      "21        FALLON JAMES B  0.002396\n",
      "22            METTS MARK  0.000232\n",
      "23         WODRASKA JOHN  0.000167\n",
      "24   MORDAUNT KRISTINA M  0.000167\n",
      "25      CARTER REBECCA C  0.000279\n",
      "26      BHATNAGAR SANJAY  0.000094\n",
      "27      WALTERS GARETH W  0.000167\n",
      "28       BIBI PHILIPPE A  0.000232\n",
      "29       SHERRIFF JOHN R  0.000567\n",
      "30          GIBBS DANA R  0.000167\n",
      "31        LINDHOLM TOD A  0.000167\n",
      "32       MCMAHON JEFFREY  0.000587\n"
     ]
    }
   ],
   "source": [
    "#submit\n",
    "submit = pd.DataFrame(columns = ['name', 'poi'])\n",
    "y_prediction = pd.DataFrame(y_prediction)\n",
    "submit['poi']=y_prediction[1]\n",
    "submit['name'] = df_test['name']\n",
    "print(submit)\n",
    "submit.to_csv('submit_mid.csv', index= False)\n"
   ]
  },
  {
   "cell_type": "code",
   "execution_count": null,
   "metadata": {},
   "outputs": [],
   "source": []
  }
 ],
 "metadata": {
  "kernelspec": {
   "display_name": "Python [conda env:ML_env] *",
   "language": "python",
   "name": "conda-env-ML_env-py"
  },
  "language_info": {
   "codemirror_mode": {
    "name": "ipython",
    "version": 3
   },
   "file_extension": ".py",
   "mimetype": "text/x-python",
   "name": "python",
   "nbconvert_exporter": "python",
   "pygments_lexer": "ipython3",
   "version": "3.7.7"
  }
 },
 "nbformat": 4,
 "nbformat_minor": 4
}
