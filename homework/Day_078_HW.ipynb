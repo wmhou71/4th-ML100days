{
 "cells": [
  {
   "cell_type": "markdown",
   "metadata": {},
   "source": [
    "## Work\n",
    "1. 請嘗試將 preproc_x 替換成以每筆資料的 min/max 進行標準化至 -1 ~ 1 間，再進行訓練\n",
    "2. 請嘗試將 mlp 疊更深 (e.g 5~10 層)，進行訓練後觀察 learning curve 的走勢\n",
    "3. (optional) 請改用 GPU 進行訓練 (如果你有 GPU 的話)，比較使用 CPU 與 GPU 的訓練速度"
   ]
  },
  {
   "cell_type": "code",
   "execution_count": 1,
   "metadata": {},
   "outputs": [
    {
     "name": "stdout",
     "output_type": "stream",
     "text": [
      "Sat Sep 19 18:06:40 2020       \n",
      "+-----------------------------------------------------------------------------+\n",
      "| NVIDIA-SMI 451.67       Driver Version: 451.67       CUDA Version: 11.0     |\n",
      "|-------------------------------+----------------------+----------------------+\n",
      "| GPU  Name            TCC/WDDM | Bus-Id        Disp.A | Volatile Uncorr. ECC |\n",
      "| Fan  Temp  Perf  Pwr:Usage/Cap|         Memory-Usage | GPU-Util  Compute M. |\n",
      "|===============================+======================+======================|\n",
      "|   0  GeForce GTX 105... WDDM  | 00000000:01:00.0 Off |                  N/A |\n",
      "| N/A   58C    P8    N/A /  N/A |     75MiB /  4096MiB |      0%      Default |\n",
      "+-------------------------------+----------------------+----------------------+\n",
      "                                                                               \n",
      "+-----------------------------------------------------------------------------+\n",
      "| Processes:                                                                  |\n",
      "|  GPU   GI   CI        PID   Type   Process name                  GPU Memory |\n",
      "|        ID   ID                                                   Usage      |\n",
      "|=============================================================================|\n",
      "|  No running processes found                                                 |\n",
      "+-----------------------------------------------------------------------------+\n"
     ]
    }
   ],
   "source": [
    "## \n",
    "\"\"\"\n",
    "Your code here (optional)\n",
    "確認硬體資源\n",
    "\"\"\"\n",
    "!nvidia-smi"
   ]
  },
  {
   "cell_type": "code",
   "execution_count": 2,
   "metadata": {},
   "outputs": [
    {
     "name": "stderr",
     "output_type": "stream",
     "text": [
      "Using TensorFlow backend.\n"
     ]
    }
   ],
   "source": [
    "import os\n",
    "import keras\n",
    "\n",
    "# 請嘗試設定 GPU：os.environ\n"
   ]
  },
  {
   "cell_type": "code",
   "execution_count": 3,
   "metadata": {},
   "outputs": [],
   "source": [
    "train, test = keras.datasets.cifar10.load_data()"
   ]
  },
  {
   "cell_type": "code",
   "execution_count": 4,
   "metadata": {},
   "outputs": [],
   "source": [
    "## 資料前處理\n",
    "\"\"\"\n",
    "Your code here\n",
    "\"\"\"\n",
    "def preproc_x(x, flatten=True):\n",
    "    x = 2*(((x - x.min()) / (x.max() - x.min()))-0.5)\n",
    "    if flatten:\n",
    "        x = x.reshape((len(x), -1))\n",
    "    return x\n",
    "\n",
    "def preproc_y(y, num_classes=10):\n",
    "    if y.shape[-1] == 1:\n",
    "        y = keras.utils.to_categorical(y, num_classes)\n",
    "    return y    \n"
   ]
  },
  {
   "cell_type": "code",
   "execution_count": 5,
   "metadata": {},
   "outputs": [],
   "source": [
    "x_train, y_train = train\n",
    "x_test, y_test = test\n",
    "\n",
    "# Preproc the inputs - X 標準化 \n",
    "x_train = preproc_x(x_train)\n",
    "x_test = preproc_x(x_test)\n",
    "\n",
    "# Preprc the outputs - Y 轉成 onehot\n",
    "y_train = preproc_y(y_train)\n",
    "y_test = preproc_y(y_test)"
   ]
  },
  {
   "cell_type": "code",
   "execution_count": 6,
   "metadata": {},
   "outputs": [
    {
     "name": "stdout",
     "output_type": "stream",
     "text": [
      "Model: \"model_1\"\n",
      "_________________________________________________________________\n",
      "Layer (type)                 Output Shape              Param #   \n",
      "=================================================================\n",
      "input_1 (InputLayer)         (None, 3072)              0         \n",
      "_________________________________________________________________\n",
      "hidden_layer1 (Dense)        (None, 2048)              6293504   \n",
      "_________________________________________________________________\n",
      "hidden_layer2 (Dense)        (None, 1024)              2098176   \n",
      "_________________________________________________________________\n",
      "hidden_layer3 (Dense)        (None, 512)               524800    \n",
      "_________________________________________________________________\n",
      "hidden_layer4 (Dense)        (None, 256)               131328    \n",
      "_________________________________________________________________\n",
      "hidden_layer5 (Dense)        (None, 128)               32896     \n",
      "_________________________________________________________________\n",
      "hidden_layer6 (Dense)        (None, 64)                8256      \n",
      "_________________________________________________________________\n",
      "hidden_layer7 (Dense)        (None, 32)                2080      \n",
      "_________________________________________________________________\n",
      "output (Dense)               (None, 10)                330       \n",
      "=================================================================\n",
      "Total params: 9,091,370\n",
      "Trainable params: 9,091,370\n",
      "Non-trainable params: 0\n",
      "_________________________________________________________________\n"
     ]
    }
   ],
   "source": [
    "\"\"\"Code Here\n",
    "建立你的神經網路\n",
    "\"\"\"\n",
    "def build_mlp(input_shape, output_units=10, num_neurons=[2048, 1024, 512, 256, 128, 64, 32]):\n",
    "    input_layer = keras.layers.Input(input_shape)\n",
    "    \n",
    "    for i, n_units in enumerate(num_neurons):\n",
    "        if i == 0:\n",
    "            x = keras.layers.Dense(units=n_units, activation=\"relu\", name=\"hidden_layer\"+str(i+1))(input_layer)\n",
    "        else:\n",
    "            x = keras.layers.Dense(units=n_units, activation=\"relu\", name=\"hidden_layer\"+str(i+1))(x)\n",
    "    \n",
    "    out = keras.layers.Dense(units=output_units, activation=\"softmax\", name=\"output\")(x)\n",
    "    \n",
    "    model = keras.models.Model(inputs=[input_layer], outputs=[out])\n",
    "    return model\n",
    "\n",
    "model = build_mlp(input_shape=x_train.shape[1:])\n",
    "model.summary()"
   ]
  },
  {
   "cell_type": "code",
   "execution_count": 7,
   "metadata": {},
   "outputs": [],
   "source": [
    "## 超參數設定\n",
    "LEARNING_RATE = 0.001\n",
    "EPOCHS = 100\n",
    "BATCH_SIZE = 256"
   ]
  },
  {
   "cell_type": "code",
   "execution_count": 8,
   "metadata": {},
   "outputs": [],
   "source": [
    "optimizer = keras.optimizers.Adam(lr=LEARNING_RATE)\n",
    "model.compile(loss=\"categorical_crossentropy\", metrics=[\"accuracy\"], optimizer=optimizer)"
   ]
  },
  {
   "cell_type": "code",
   "execution_count": 9,
   "metadata": {},
   "outputs": [
    {
     "name": "stdout",
     "output_type": "stream",
     "text": [
      "Train on 50000 samples, validate on 10000 samples\n",
      "Epoch 1/100\n",
      "50000/50000 [==============================] - 5s 109us/step - loss: 1.7849 - accuracy: 0.3583 - val_loss: 1.6016 - val_accuracy: 0.4310\n",
      "Epoch 2/100\n",
      "50000/50000 [==============================] - 4s 84us/step - loss: 1.5008 - accuracy: 0.4695 - val_loss: 1.4526 - val_accuracy: 0.4817\n",
      "Epoch 3/100\n",
      "50000/50000 [==============================] - 4s 89us/step - loss: 1.3549 - accuracy: 0.5225 - val_loss: 1.3845 - val_accuracy: 0.5126\n",
      "Epoch 4/100\n",
      "50000/50000 [==============================] - 5s 93us/step - loss: 1.2415 - accuracy: 0.5620 - val_loss: 1.4013 - val_accuracy: 0.5130\n",
      "Epoch 5/100\n",
      "50000/50000 [==============================] - 4s 89us/step - loss: 1.1456 - accuracy: 0.5964 - val_loss: 1.3211 - val_accuracy: 0.5398\n",
      "Epoch 6/100\n",
      "50000/50000 [==============================] - 4s 88us/step - loss: 1.0393 - accuracy: 0.6335 - val_loss: 1.3304 - val_accuracy: 0.5467\n",
      "Epoch 7/100\n",
      "50000/50000 [==============================] - 5s 96us/step - loss: 0.9404 - accuracy: 0.6669 - val_loss: 1.3696 - val_accuracy: 0.5428\n",
      "Epoch 8/100\n",
      "50000/50000 [==============================] - 5s 98us/step - loss: 0.8421 - accuracy: 0.7010 - val_loss: 1.3920 - val_accuracy: 0.5487\n",
      "Epoch 9/100\n",
      "50000/50000 [==============================] - 5s 93us/step - loss: 0.7507 - accuracy: 0.7317 - val_loss: 1.4913 - val_accuracy: 0.5437\n",
      "Epoch 10/100\n",
      "50000/50000 [==============================] - 5s 93us/step - loss: 0.6533 - accuracy: 0.7702 - val_loss: 1.5335 - val_accuracy: 0.5479\n",
      "Epoch 11/100\n",
      "50000/50000 [==============================] - 4s 87us/step - loss: 0.5688 - accuracy: 0.7983 - val_loss: 1.6291 - val_accuracy: 0.5510\n",
      "Epoch 12/100\n",
      "50000/50000 [==============================] - 5s 93us/step - loss: 0.4827 - accuracy: 0.8300 - val_loss: 1.7372 - val_accuracy: 0.5479\n",
      "Epoch 13/100\n",
      "50000/50000 [==============================] - 5s 91us/step - loss: 0.4222 - accuracy: 0.8510 - val_loss: 1.8995 - val_accuracy: 0.5481\n",
      "Epoch 14/100\n",
      "50000/50000 [==============================] - 5s 93us/step - loss: 0.3517 - accuracy: 0.8746 - val_loss: 2.0218 - val_accuracy: 0.5449\n",
      "Epoch 15/100\n",
      "50000/50000 [==============================] - 4s 84us/step - loss: 0.3019 - accuracy: 0.8926 - val_loss: 2.2312 - val_accuracy: 0.5461\n",
      "Epoch 16/100\n",
      "50000/50000 [==============================] - 4s 90us/step - loss: 0.2543 - accuracy: 0.9111 - val_loss: 2.2800 - val_accuracy: 0.5510\n",
      "Epoch 17/100\n",
      "50000/50000 [==============================] - 4s 88us/step - loss: 0.2357 - accuracy: 0.9188 - val_loss: 2.3987 - val_accuracy: 0.5496\n",
      "Epoch 18/100\n",
      "50000/50000 [==============================] - 4s 88us/step - loss: 0.1915 - accuracy: 0.9346 - val_loss: 2.4867 - val_accuracy: 0.5489\n",
      "Epoch 19/100\n",
      "50000/50000 [==============================] - 4s 85us/step - loss: 0.1709 - accuracy: 0.9416 - val_loss: 2.6262 - val_accuracy: 0.5486\n",
      "Epoch 20/100\n",
      "50000/50000 [==============================] - 4s 89us/step - loss: 0.1601 - accuracy: 0.9462 - val_loss: 2.7966 - val_accuracy: 0.5448\n",
      "Epoch 21/100\n",
      "50000/50000 [==============================] - 5s 95us/step - loss: 0.1453 - accuracy: 0.9510 - val_loss: 2.8022 - val_accuracy: 0.5496\n",
      "Epoch 22/100\n",
      "50000/50000 [==============================] - 4s 88us/step - loss: 0.1405 - accuracy: 0.9528 - val_loss: 2.8147 - val_accuracy: 0.5460\n",
      "Epoch 23/100\n",
      "50000/50000 [==============================] - 4s 86us/step - loss: 0.1023 - accuracy: 0.9660 - val_loss: 3.1150 - val_accuracy: 0.5467\n",
      "Epoch 24/100\n",
      "50000/50000 [==============================] - 4s 83us/step - loss: 0.1149 - accuracy: 0.9616 - val_loss: 3.1303 - val_accuracy: 0.5444\n",
      "Epoch 25/100\n",
      "50000/50000 [==============================] - 4s 90us/step - loss: 0.1115 - accuracy: 0.9628 - val_loss: 3.1440 - val_accuracy: 0.5461\n",
      "Epoch 26/100\n",
      "50000/50000 [==============================] - 5s 90us/step - loss: 0.0854 - accuracy: 0.9718 - val_loss: 3.2982 - val_accuracy: 0.5465\n",
      "Epoch 27/100\n",
      "50000/50000 [==============================] - 5s 92us/step - loss: 0.0945 - accuracy: 0.9674 - val_loss: 3.3119 - val_accuracy: 0.5479\n",
      "Epoch 28/100\n",
      "50000/50000 [==============================] - 4s 85us/step - loss: 0.0873 - accuracy: 0.9710 - val_loss: 3.3700 - val_accuracy: 0.5416\n",
      "Epoch 29/100\n",
      "50000/50000 [==============================] - 4s 87us/step - loss: 0.0863 - accuracy: 0.9724 - val_loss: 3.2951 - val_accuracy: 0.5570\n",
      "Epoch 30/100\n",
      "50000/50000 [==============================] - 5s 90us/step - loss: 0.0789 - accuracy: 0.9744 - val_loss: 3.5286 - val_accuracy: 0.5392\n",
      "Epoch 31/100\n",
      "50000/50000 [==============================] - 4s 88us/step - loss: 0.0723 - accuracy: 0.9763 - val_loss: 3.3840 - val_accuracy: 0.5482\n",
      "Epoch 32/100\n",
      "50000/50000 [==============================] - 4s 86us/step - loss: 0.0752 - accuracy: 0.9764 - val_loss: 3.5265 - val_accuracy: 0.5413\n",
      "Epoch 33/100\n",
      "50000/50000 [==============================] - 4s 84us/step - loss: 0.0639 - accuracy: 0.9796 - val_loss: 3.6100 - val_accuracy: 0.5503\n",
      "Epoch 34/100\n",
      "50000/50000 [==============================] - 5s 96us/step - loss: 0.0792 - accuracy: 0.9746 - val_loss: 3.5355 - val_accuracy: 0.5449\n",
      "Epoch 35/100\n",
      "50000/50000 [==============================] - 5s 92us/step - loss: 0.0649 - accuracy: 0.9790 - val_loss: 3.5612 - val_accuracy: 0.5509\n",
      "Epoch 36/100\n",
      "50000/50000 [==============================] - 5s 90us/step - loss: 0.0510 - accuracy: 0.9837 - val_loss: 3.7434 - val_accuracy: 0.5460\n",
      "Epoch 37/100\n",
      "50000/50000 [==============================] - 4s 88us/step - loss: 0.0648 - accuracy: 0.9784 - val_loss: 3.7241 - val_accuracy: 0.5516\n",
      "Epoch 38/100\n",
      "50000/50000 [==============================] - 4s 86us/step - loss: 0.0631 - accuracy: 0.9799 - val_loss: 3.6109 - val_accuracy: 0.5501\n",
      "Epoch 39/100\n",
      "50000/50000 [==============================] - 5s 91us/step - loss: 0.0673 - accuracy: 0.9784 - val_loss: 3.5122 - val_accuracy: 0.5486\n",
      "Epoch 40/100\n",
      "50000/50000 [==============================] - 5s 98us/step - loss: 0.0636 - accuracy: 0.9790 - val_loss: 3.5357 - val_accuracy: 0.5424\n",
      "Epoch 41/100\n",
      "50000/50000 [==============================] - 5s 96us/step - loss: 0.0474 - accuracy: 0.9847 - val_loss: 3.6354 - val_accuracy: 0.5473\n",
      "Epoch 42/100\n",
      "50000/50000 [==============================] - 4s 84us/step - loss: 0.0627 - accuracy: 0.9798 - val_loss: 3.5865 - val_accuracy: 0.5469\n",
      "Epoch 43/100\n",
      "50000/50000 [==============================] - 5s 93us/step - loss: 0.0644 - accuracy: 0.9794 - val_loss: 3.7323 - val_accuracy: 0.5483\n",
      "Epoch 44/100\n",
      "50000/50000 [==============================] - 5s 96us/step - loss: 0.0472 - accuracy: 0.9853 - val_loss: 3.8270 - val_accuracy: 0.5516\n",
      "Epoch 45/100\n",
      "50000/50000 [==============================] - 5s 96us/step - loss: 0.0525 - accuracy: 0.9831 - val_loss: 3.5912 - val_accuracy: 0.5544\n",
      "Epoch 46/100\n",
      "50000/50000 [==============================] - 5s 103us/step - loss: 0.0408 - accuracy: 0.9873 - val_loss: 3.8596 - val_accuracy: 0.5476\n",
      "Epoch 47/100\n",
      "50000/50000 [==============================] - 6s 121us/step - loss: 0.0497 - accuracy: 0.9841 - val_loss: 3.8396 - val_accuracy: 0.5521\n",
      "Epoch 48/100\n",
      "50000/50000 [==============================] - 5s 105us/step - loss: 0.0508 - accuracy: 0.9832 - val_loss: 3.7757 - val_accuracy: 0.5460\n",
      "Epoch 49/100\n",
      "50000/50000 [==============================] - 5s 91us/step - loss: 0.0484 - accuracy: 0.9844 - val_loss: 3.9573 - val_accuracy: 0.5427\n",
      "Epoch 50/100\n",
      "50000/50000 [==============================] - 4s 89us/step - loss: 0.0527 - accuracy: 0.9833 - val_loss: 3.7874 - val_accuracy: 0.5459\n",
      "Epoch 51/100\n",
      "50000/50000 [==============================] - 5s 91us/step - loss: 0.0541 - accuracy: 0.9825 - val_loss: 3.5671 - val_accuracy: 0.5464\n",
      "Epoch 52/100\n",
      "50000/50000 [==============================] - 4s 88us/step - loss: 0.0508 - accuracy: 0.9839 - val_loss: 3.6511 - val_accuracy: 0.5425\n",
      "Epoch 53/100\n",
      "50000/50000 [==============================] - 5s 97us/step - loss: 0.0476 - accuracy: 0.9849 - val_loss: 3.7901 - val_accuracy: 0.5511\n",
      "Epoch 54/100\n",
      "50000/50000 [==============================] - 4s 86us/step - loss: 0.0481 - accuracy: 0.9847 - val_loss: 3.5156 - val_accuracy: 0.5446\n",
      "Epoch 55/100\n",
      "50000/50000 [==============================] - 4s 87us/step - loss: 0.0524 - accuracy: 0.9830 - val_loss: 3.5041 - val_accuracy: 0.5456\n"
     ]
    },
    {
     "name": "stdout",
     "output_type": "stream",
     "text": [
      "Epoch 56/100\n",
      "50000/50000 [==============================] - 5s 91us/step - loss: 0.0444 - accuracy: 0.9853 - val_loss: 3.7327 - val_accuracy: 0.5543\n",
      "Epoch 57/100\n",
      "50000/50000 [==============================] - 5s 91us/step - loss: 0.0304 - accuracy: 0.9904 - val_loss: 3.9085 - val_accuracy: 0.5578\n",
      "Epoch 58/100\n",
      "50000/50000 [==============================] - 4s 88us/step - loss: 0.0379 - accuracy: 0.9883 - val_loss: 3.8361 - val_accuracy: 0.5428\n",
      "Epoch 59/100\n",
      "50000/50000 [==============================] - 4s 86us/step - loss: 0.0443 - accuracy: 0.9856 - val_loss: 4.0470 - val_accuracy: 0.5386\n",
      "Epoch 60/100\n",
      "50000/50000 [==============================] - 5s 101us/step - loss: 0.0460 - accuracy: 0.9851 - val_loss: 3.8576 - val_accuracy: 0.5461\n",
      "Epoch 61/100\n",
      "50000/50000 [==============================] - 5s 91us/step - loss: 0.0549 - accuracy: 0.9832 - val_loss: 3.6809 - val_accuracy: 0.5449\n",
      "Epoch 62/100\n",
      "50000/50000 [==============================] - 5s 92us/step - loss: 0.0390 - accuracy: 0.9882 - val_loss: 3.7338 - val_accuracy: 0.5517\n",
      "Epoch 63/100\n",
      "50000/50000 [==============================] - 4s 85us/step - loss: 0.0362 - accuracy: 0.9884 - val_loss: 3.8883 - val_accuracy: 0.5510\n",
      "Epoch 64/100\n",
      "50000/50000 [==============================] - 5s 92us/step - loss: 0.0291 - accuracy: 0.9908 - val_loss: 3.8994 - val_accuracy: 0.5518\n",
      "Epoch 65/100\n",
      "50000/50000 [==============================] - 5s 90us/step - loss: 0.0466 - accuracy: 0.9856 - val_loss: 3.6080 - val_accuracy: 0.5524\n",
      "Epoch 66/100\n",
      "50000/50000 [==============================] - 5s 95us/step - loss: 0.0381 - accuracy: 0.9885 - val_loss: 3.6490 - val_accuracy: 0.5469\n",
      "Epoch 67/100\n",
      "50000/50000 [==============================] - 4s 90us/step - loss: 0.0330 - accuracy: 0.9895 - val_loss: 3.8782 - val_accuracy: 0.5470\n",
      "Epoch 68/100\n",
      "50000/50000 [==============================] - 4s 88us/step - loss: 0.0439 - accuracy: 0.9860 - val_loss: 3.6034 - val_accuracy: 0.5447\n",
      "Epoch 69/100\n",
      "50000/50000 [==============================] - 5s 92us/step - loss: 0.0487 - accuracy: 0.9847 - val_loss: 3.6639 - val_accuracy: 0.5496\n",
      "Epoch 70/100\n",
      "50000/50000 [==============================] - 4s 90us/step - loss: 0.0250 - accuracy: 0.9922 - val_loss: 3.8045 - val_accuracy: 0.5480\n",
      "Epoch 71/100\n",
      "50000/50000 [==============================] - 4s 89us/step - loss: 0.0382 - accuracy: 0.9879 - val_loss: 3.8938 - val_accuracy: 0.5455\n",
      "Epoch 72/100\n",
      "50000/50000 [==============================] - 4s 85us/step - loss: 0.0463 - accuracy: 0.9854 - val_loss: 3.8299 - val_accuracy: 0.5508\n",
      "Epoch 73/100\n",
      "50000/50000 [==============================] - 5s 100us/step - loss: 0.0313 - accuracy: 0.9901 - val_loss: 3.8671 - val_accuracy: 0.5497\n",
      "Epoch 74/100\n",
      "50000/50000 [==============================] - 5s 98us/step - loss: 0.0261 - accuracy: 0.9915 - val_loss: 3.9144 - val_accuracy: 0.5556\n",
      "Epoch 75/100\n",
      "50000/50000 [==============================] - 5s 96us/step - loss: 0.0240 - accuracy: 0.9929 - val_loss: 3.9636 - val_accuracy: 0.5559\n",
      "Epoch 76/100\n",
      "50000/50000 [==============================] - 5s 91us/step - loss: 0.0396 - accuracy: 0.9875 - val_loss: 3.9007 - val_accuracy: 0.5502\n",
      "Epoch 77/100\n",
      "50000/50000 [==============================] - 4s 89us/step - loss: 0.0426 - accuracy: 0.9868 - val_loss: 3.6753 - val_accuracy: 0.5471\n",
      "Epoch 78/100\n",
      "50000/50000 [==============================] - 5s 93us/step - loss: 0.0343 - accuracy: 0.9890 - val_loss: 3.8604 - val_accuracy: 0.5409\n",
      "Epoch 79/100\n",
      "50000/50000 [==============================] - 5s 93us/step - loss: 0.0368 - accuracy: 0.9883 - val_loss: 3.8760 - val_accuracy: 0.5567\n",
      "Epoch 80/100\n",
      "50000/50000 [==============================] - 5s 95us/step - loss: 0.0365 - accuracy: 0.9884 - val_loss: 3.7707 - val_accuracy: 0.5452\n",
      "Epoch 81/100\n",
      "50000/50000 [==============================] - 4s 85us/step - loss: 0.0285 - accuracy: 0.9915 - val_loss: 3.8634 - val_accuracy: 0.5452\n",
      "Epoch 82/100\n",
      "50000/50000 [==============================] - 5s 93us/step - loss: 0.0279 - accuracy: 0.9917 - val_loss: 3.9000 - val_accuracy: 0.5449\n",
      "Epoch 83/100\n",
      "50000/50000 [==============================] - 5s 99us/step - loss: 0.0353 - accuracy: 0.9889 - val_loss: 4.1974 - val_accuracy: 0.5461\n",
      "Epoch 84/100\n",
      "50000/50000 [==============================] - 5s 94us/step - loss: 0.0435 - accuracy: 0.9863 - val_loss: 3.8701 - val_accuracy: 0.5516\n",
      "Epoch 85/100\n",
      "50000/50000 [==============================] - 4s 88us/step - loss: 0.0440 - accuracy: 0.9863 - val_loss: 3.7050 - val_accuracy: 0.5515\n",
      "Epoch 86/100\n",
      "50000/50000 [==============================] - 5s 103us/step - loss: 0.0179 - accuracy: 0.9940 - val_loss: 4.2350 - val_accuracy: 0.5517\n",
      "Epoch 87/100\n",
      "50000/50000 [==============================] - 5s 91us/step - loss: 0.0302 - accuracy: 0.9913 - val_loss: 3.9315 - val_accuracy: 0.5511\n",
      "Epoch 88/100\n",
      "50000/50000 [==============================] - 5s 95us/step - loss: 0.0265 - accuracy: 0.9914 - val_loss: 3.8264 - val_accuracy: 0.5474\n",
      "Epoch 89/100\n",
      "50000/50000 [==============================] - 4s 86us/step - loss: 0.0314 - accuracy: 0.9899 - val_loss: 3.8714 - val_accuracy: 0.5462\n",
      "Epoch 90/100\n",
      "50000/50000 [==============================] - 5s 90us/step - loss: 0.0337 - accuracy: 0.9899 - val_loss: 3.9404 - val_accuracy: 0.5439\n",
      "Epoch 91/100\n",
      "50000/50000 [==============================] - 5s 93us/step - loss: 0.0336 - accuracy: 0.9891 - val_loss: 3.8661 - val_accuracy: 0.5387\n",
      "Epoch 92/100\n",
      "50000/50000 [==============================] - 5s 100us/step - loss: 0.0332 - accuracy: 0.9893 - val_loss: 3.8515 - val_accuracy: 0.5527\n",
      "Epoch 93/100\n",
      "50000/50000 [==============================] - 5s 93us/step - loss: 0.0186 - accuracy: 0.9941 - val_loss: 4.1174 - val_accuracy: 0.5545\n",
      "Epoch 94/100\n",
      "50000/50000 [==============================] - 4s 88us/step - loss: 0.0327 - accuracy: 0.9895 - val_loss: 3.9572 - val_accuracy: 0.5455\n",
      "Epoch 95/100\n",
      "50000/50000 [==============================] - 5s 101us/step - loss: 0.0365 - accuracy: 0.9885 - val_loss: 3.6849 - val_accuracy: 0.5501\n",
      "Epoch 96/100\n",
      "50000/50000 [==============================] - 5s 100us/step - loss: 0.0236 - accuracy: 0.9923 - val_loss: 3.8536 - val_accuracy: 0.5488\n",
      "Epoch 97/100\n",
      "50000/50000 [==============================] - 5s 99us/step - loss: 0.0311 - accuracy: 0.9901 - val_loss: 3.9240 - val_accuracy: 0.5500\n",
      "Epoch 98/100\n",
      "50000/50000 [==============================] - 5s 97us/step - loss: 0.0324 - accuracy: 0.9902 - val_loss: 3.9219 - val_accuracy: 0.5584\n",
      "Epoch 99/100\n",
      "50000/50000 [==============================] - 5s 99us/step - loss: 0.0171 - accuracy: 0.9948 - val_loss: 4.0033 - val_accuracy: 0.5554\n",
      "Epoch 100/100\n",
      "50000/50000 [==============================] - 5s 95us/step - loss: 0.0318 - accuracy: 0.9902 - val_loss: 3.8144 - val_accuracy: 0.5470\n"
     ]
    },
    {
     "data": {
      "text/plain": [
       "<keras.callbacks.callbacks.History at 0x26290ddcc88>"
      ]
     },
     "execution_count": 9,
     "metadata": {},
     "output_type": "execute_result"
    }
   ],
   "source": [
    "model.fit(x_train, y_train, \n",
    "          epochs=EPOCHS, \n",
    "          batch_size=BATCH_SIZE, \n",
    "          validation_data=(x_test, y_test), \n",
    "          shuffle=True)"
   ]
  },
  {
   "cell_type": "code",
   "execution_count": 10,
   "metadata": {},
   "outputs": [
    {
     "data": {
      "image/png": "[encoded data removed]",
      "text/plain": [
       "<Figure size 432x288 with 1 Axes>"
      ]
     },
     "metadata": {
      "needs_background": "light"
     },
     "output_type": "display_data"
    },
    {
     "data": {
      "image/png": "[encoded data removed]",
      "text/plain": [
       "<Figure size 432x288 with 1 Axes>"
      ]
     },
     "metadata": {
      "needs_background": "light"
     },
     "output_type": "display_data"
    }
   ],
   "source": [
    "import matplotlib.pyplot as plt\n",
    "\n",
    "\n",
    "train_loss = model.history.history[\"loss\"]\n",
    "valid_loss = model.history.history[\"val_loss\"]\n",
    "\n",
    "train_acc = model.history.history[\"accuracy\"]\n",
    "valid_acc = model.history.history[\"val_accuracy\"]\n",
    "\n",
    "plt.plot(range(len(train_loss)), train_loss, label=\"train loss\")\n",
    "plt.plot(range(len(valid_loss)), valid_loss, label=\"valid loss\")\n",
    "plt.legend()\n",
    "plt.title(\"Loss\")\n",
    "plt.show()\n",
    "\n",
    "plt.plot(range(len(train_acc)), train_acc, label=\"train accuracy\")\n",
    "plt.plot(range(len(valid_acc)), valid_acc, label=\"valid accuracy\")\n",
    "plt.legend()\n",
    "plt.title(\"Accuracy\")\n",
    "plt.show()"
   ]
  },
  {
   "cell_type": "code",
   "execution_count": null,
   "metadata": {},
   "outputs": [],
   "source": []
  }
 ],
 "metadata": {
  "kernelspec": {
   "display_name": "Python 3",
   "language": "python",
   "name": "python3"
  },
  "language_info": {
   "codemirror_mode": {
    "name": "ipython",
    "version": 3
   },
   "file_extension": ".py",
   "mimetype": "text/x-python",
   "name": "python",
   "nbconvert_exporter": "python",
   "pygments_lexer": "ipython3",
   "version": "3.7.7"
  }
 },
 "nbformat": 4,
 "nbformat_minor": 2
}
