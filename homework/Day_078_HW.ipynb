{
 "cells": [
  {
   "cell_type": "markdown",
   "metadata": {},
   "source": [
    "## Work\n",
    "1. 請嘗試將 preproc_x 替換成以每筆資料的 min/max 進行標準化至 -1 ~ 1 間，再進行訓練\n",
    "2. 請嘗試將 mlp 疊更深 (e.g 5~10 層)，進行訓練後觀察 learning curve 的走勢\n",
    "3. (optional) 請改用 GPU 進行訓練 (如果你有 GPU 的話)，比較使用 CPU 與 GPU 的訓練速度"
   ]
  },
  {
   "cell_type": "code",
   "execution_count": 1,
   "metadata": {},
   "outputs": [
    {
     "name": "stdout",
     "output_type": "stream",
     "text": [
      "Sat Sep 19 17:52:13 2020       \n",
      "+-----------------------------------------------------------------------------+\n",
      "| NVIDIA-SMI 451.67       Driver Version: 451.67       CUDA Version: 11.0     |\n",
      "|-------------------------------+----------------------+----------------------+\n",
      "| GPU  Name            TCC/WDDM | Bus-Id        Disp.A | Volatile Uncorr. ECC |\n",
      "| Fan  Temp  Perf  Pwr:Usage/Cap|         Memory-Usage | GPU-Util  Compute M. |\n",
      "|===============================+======================+======================|\n",
      "|   0  GeForce GTX 105... WDDM  | 00000000:01:00.0 Off |                  N/A |\n",
      "| N/A   51C    P8    N/A /  N/A |     75MiB /  4096MiB |      0%      Default |\n",
      "+-------------------------------+----------------------+----------------------+\n",
      "                                                                               \n",
      "+-----------------------------------------------------------------------------+\n",
      "| Processes:                                                                  |\n",
      "|  GPU   GI   CI        PID   Type   Process name                  GPU Memory |\n",
      "|        ID   ID                                                   Usage      |\n",
      "|=============================================================================|\n",
      "|  No running processes found                                                 |\n",
      "+-----------------------------------------------------------------------------+\n"
     ]
    }
   ],
   "source": [
    "## \n",
    "\"\"\"\n",
    "Your code here (optional)\n",
    "確認硬體資源\n",
    "\"\"\"\n",
    "!nvidia-smi"
   ]
  },
  {
   "cell_type": "code",
   "execution_count": 2,
   "metadata": {},
   "outputs": [
    {
     "name": "stderr",
     "output_type": "stream",
     "text": [
      "Using TensorFlow backend.\n"
     ]
    }
   ],
   "source": [
    "import os\n",
    "import keras\n",
    "\n",
    "# 請嘗試設定 GPU：os.environ\n"
   ]
  },
  {
   "cell_type": "code",
   "execution_count": 3,
   "metadata": {},
   "outputs": [],
   "source": [
    "train, test = keras.datasets.cifar10.load_data()"
   ]
  },
  {
   "cell_type": "code",
   "execution_count": 4,
   "metadata": {},
   "outputs": [],
   "source": [
    "## 資料前處理\n",
    "\"\"\"\n",
    "Your code here\n",
    "\"\"\"\n",
    "from sklearn.preprocessing import MaxAbsScaler\n",
    "\n",
    "def preproc_x(x, flatten=True):\n",
    "    x = x / 255. \n",
    "    if flatten:\n",
    "        x = x.reshape((len(x), -1))\n",
    "    max_abs_scaler = MaxAbsScaler()  \n",
    "    x = max_abs_scaler.fit_transform(x) \n",
    "    return x\n",
    "\n",
    "def preproc_y(y, num_classes=10):\n",
    "    if y.shape[-1] == 1:\n",
    "        y = keras.utils.to_categorical(y, num_classes)\n",
    "    return y    \n"
   ]
  },
  {
   "cell_type": "code",
   "execution_count": 5,
   "metadata": {},
   "outputs": [],
   "source": [
    "x_train, y_train = train\n",
    "x_test, y_test = test\n",
    "\n",
    "# Preproc the inputs - X 標準化 \n",
    "x_train = preproc_x(x_train)\n",
    "x_test = preproc_x(x_test)\n",
    "\n",
    "# Preprc the outputs - Y 轉成 onehot\n",
    "y_train = preproc_y(y_train)\n",
    "y_test = preproc_y(y_test)"
   ]
  },
  {
   "cell_type": "code",
   "execution_count": 6,
   "metadata": {},
   "outputs": [
    {
     "name": "stdout",
     "output_type": "stream",
     "text": [
      "Model: \"model_1\"\n",
      "_________________________________________________________________\n",
      "Layer (type)                 Output Shape              Param #   \n",
      "=================================================================\n",
      "input_1 (InputLayer)         (None, 3072)              0         \n",
      "_________________________________________________________________\n",
      "hidden_layer1 (Dense)        (None, 2048)              6293504   \n",
      "_________________________________________________________________\n",
      "hidden_layer2 (Dense)        (None, 1024)              2098176   \n",
      "_________________________________________________________________\n",
      "hidden_layer3 (Dense)        (None, 512)               524800    \n",
      "_________________________________________________________________\n",
      "hidden_layer4 (Dense)        (None, 256)               131328    \n",
      "_________________________________________________________________\n",
      "hidden_layer5 (Dense)        (None, 128)               32896     \n",
      "_________________________________________________________________\n",
      "hidden_layer6 (Dense)        (None, 64)                8256      \n",
      "_________________________________________________________________\n",
      "hidden_layer7 (Dense)        (None, 32)                2080      \n",
      "_________________________________________________________________\n",
      "output (Dense)               (None, 10)                330       \n",
      "=================================================================\n",
      "Total params: 9,091,370\n",
      "Trainable params: 9,091,370\n",
      "Non-trainable params: 0\n",
      "_________________________________________________________________\n"
     ]
    }
   ],
   "source": [
    "\"\"\"Code Here\n",
    "建立你的神經網路\n",
    "\"\"\"\n",
    "def build_mlp(input_shape, output_units=10, num_neurons=[2048, 1024, 512, 256, 128, 64, 32]):\n",
    "    input_layer = keras.layers.Input(input_shape)\n",
    "    \n",
    "    for i, n_units in enumerate(num_neurons):\n",
    "        if i == 0:\n",
    "            x = keras.layers.Dense(units=n_units, activation=\"relu\", name=\"hidden_layer\"+str(i+1))(input_layer)\n",
    "        else:\n",
    "            x = keras.layers.Dense(units=n_units, activation=\"relu\", name=\"hidden_layer\"+str(i+1))(x)\n",
    "    \n",
    "    out = keras.layers.Dense(units=output_units, activation=\"softmax\", name=\"output\")(x)\n",
    "    \n",
    "    model = keras.models.Model(inputs=[input_layer], outputs=[out])\n",
    "    return model\n",
    "\n",
    "model = build_mlp(input_shape=x_train.shape[1:])\n",
    "model.summary()"
   ]
  },
  {
   "cell_type": "code",
   "execution_count": 7,
   "metadata": {},
   "outputs": [],
   "source": [
    "## 超參數設定\n",
    "LEARNING_RATE = 0.001\n",
    "EPOCHS = 100\n",
    "BATCH_SIZE = 256"
   ]
  },
  {
   "cell_type": "code",
   "execution_count": 8,
   "metadata": {},
   "outputs": [],
   "source": [
    "optimizer = keras.optimizers.Adam(lr=LEARNING_RATE)\n",
    "model.compile(loss=\"categorical_crossentropy\", metrics=[\"accuracy\"], optimizer=optimizer)"
   ]
  },
  {
   "cell_type": "code",
   "execution_count": null,
   "metadata": {},
   "outputs": [
    {
     "name": "stdout",
     "output_type": "stream",
     "text": [
      "Train on 50000 samples, validate on 10000 samples\n",
      "Epoch 1/100\n",
      "50000/50000 [==============================] - 6s 119us/step - loss: 2.1545 - accuracy: 0.1938 - val_loss: 1.9781 - val_accuracy: 0.2578\n",
      "Epoch 2/100\n",
      "50000/50000 [==============================] - 5s 108us/step - loss: 1.9137 - accuracy: 0.2943 - val_loss: 1.8307 - val_accuracy: 0.3280\n",
      "Epoch 3/100\n",
      "50000/50000 [==============================] - 5s 103us/step - loss: 1.7898 - accuracy: 0.3517 - val_loss: 1.7427 - val_accuracy: 0.3739\n",
      "Epoch 4/100\n",
      "50000/50000 [==============================] - 5s 99us/step - loss: 1.7034 - accuracy: 0.3848 - val_loss: 1.6645 - val_accuracy: 0.3922\n",
      "Epoch 5/100\n",
      "50000/50000 [==============================] - 5s 95us/step - loss: 1.6432 - accuracy: 0.4077 - val_loss: 1.5972 - val_accuracy: 0.4290\n",
      "Epoch 6/100\n",
      "50000/50000 [==============================] - 5s 96us/step - loss: 1.5847 - accuracy: 0.4317 - val_loss: 1.5626 - val_accuracy: 0.4409\n",
      "Epoch 7/100\n",
      "50000/50000 [==============================] - 5s 97us/step - loss: 1.5404 - accuracy: 0.4481 - val_loss: 1.5348 - val_accuracy: 0.4513\n",
      "Epoch 8/100\n",
      "50000/50000 [==============================] - 4s 87us/step - loss: 1.5031 - accuracy: 0.4624 - val_loss: 1.4952 - val_accuracy: 0.4624\n",
      "Epoch 9/100\n",
      "50000/50000 [==============================] - 5s 99us/step - loss: 1.4745 - accuracy: 0.4716 - val_loss: 1.4880 - val_accuracy: 0.4695\n",
      "Epoch 10/100\n",
      "50000/50000 [==============================] - 4s 88us/step - loss: 1.4399 - accuracy: 0.4841 - val_loss: 1.4541 - val_accuracy: 0.4771\n",
      "Epoch 11/100\n",
      "50000/50000 [==============================] - 4s 90us/step - loss: 1.4133 - accuracy: 0.4936 - val_loss: 1.4355 - val_accuracy: 0.4894\n",
      "Epoch 12/100\n",
      "50000/50000 [==============================] - 4s 84us/step - loss: 1.3827 - accuracy: 0.5068 - val_loss: 1.4323 - val_accuracy: 0.4895\n",
      "Epoch 13/100\n",
      "50000/50000 [==============================] - 5s 90us/step - loss: 1.3614 - accuracy: 0.5155 - val_loss: 1.4298 - val_accuracy: 0.4895\n",
      "Epoch 14/100\n",
      "50000/50000 [==============================] - 5s 97us/step - loss: 1.3340 - accuracy: 0.5249 - val_loss: 1.4225 - val_accuracy: 0.4935\n",
      "Epoch 15/100\n",
      "50000/50000 [==============================] - 5s 91us/step - loss: 1.3069 - accuracy: 0.5343 - val_loss: 1.3710 - val_accuracy: 0.5108\n",
      "Epoch 16/100\n",
      "50000/50000 [==============================] - 4s 84us/step - loss: 1.2769 - accuracy: 0.5438 - val_loss: 1.4318 - val_accuracy: 0.4938\n",
      "Epoch 17/100\n",
      "50000/50000 [==============================] - 4s 87us/step - loss: 1.2552 - accuracy: 0.5496 - val_loss: 1.3618 - val_accuracy: 0.5194\n",
      "Epoch 18/100\n",
      "50000/50000 [==============================] - 5s 91us/step - loss: 1.2306 - accuracy: 0.5612 - val_loss: 1.3695 - val_accuracy: 0.5204\n",
      "Epoch 19/100\n",
      "50000/50000 [==============================] - 5s 93us/step - loss: 1.2113 - accuracy: 0.5681 - val_loss: 1.3793 - val_accuracy: 0.5176\n",
      "Epoch 20/100\n",
      "50000/50000 [==============================] - 5s 91us/step - loss: 1.1867 - accuracy: 0.5763 - val_loss: 1.3557 - val_accuracy: 0.5247\n",
      "Epoch 21/100\n",
      "50000/50000 [==============================] - 4s 83us/step - loss: 1.1642 - accuracy: 0.5834 - val_loss: 1.3453 - val_accuracy: 0.5300\n",
      "Epoch 22/100\n",
      "50000/50000 [==============================] - 5s 92us/step - loss: 1.1348 - accuracy: 0.5962 - val_loss: 1.3531 - val_accuracy: 0.5264\n",
      "Epoch 23/100\n",
      "50000/50000 [==============================] - 5s 91us/step - loss: 1.1061 - accuracy: 0.6066 - val_loss: 1.3408 - val_accuracy: 0.5339\n",
      "Epoch 24/100\n",
      "50000/50000 [==============================] - 4s 88us/step - loss: 1.0816 - accuracy: 0.6138 - val_loss: 1.3952 - val_accuracy: 0.5176\n",
      "Epoch 25/100\n",
      "50000/50000 [==============================] - 4s 82us/step - loss: 1.0607 - accuracy: 0.6220 - val_loss: 1.3876 - val_accuracy: 0.5219\n",
      "Epoch 26/100\n",
      "50000/50000 [==============================] - 5s 93us/step - loss: 1.0304 - accuracy: 0.6310 - val_loss: 1.3861 - val_accuracy: 0.5339\n",
      "Epoch 27/100\n",
      "50000/50000 [==============================] - 5s 93us/step - loss: 1.0075 - accuracy: 0.6421 - val_loss: 1.3664 - val_accuracy: 0.5385\n",
      "Epoch 28/100\n",
      "50000/50000 [==============================] - 4s 87us/step - loss: 0.9794 - accuracy: 0.6509 - val_loss: 1.4097 - val_accuracy: 0.5278\n",
      "Epoch 29/100\n",
      "50000/50000 [==============================] - 4s 88us/step - loss: 0.9509 - accuracy: 0.6604 - val_loss: 1.3797 - val_accuracy: 0.5356\n",
      "Epoch 30/100\n",
      "50000/50000 [==============================] - 4s 87us/step - loss: 0.9162 - accuracy: 0.6750 - val_loss: 1.3949 - val_accuracy: 0.5314\n",
      "Epoch 31/100\n",
      "50000/50000 [==============================] - 4s 89us/step - loss: 0.8957 - accuracy: 0.6813 - val_loss: 1.4316 - val_accuracy: 0.5383\n",
      "Epoch 32/100\n",
      "50000/50000 [==============================] - 5s 92us/step - loss: 0.8755 - accuracy: 0.6898 - val_loss: 1.4231 - val_accuracy: 0.5347\n",
      "Epoch 33/100\n",
      "50000/50000 [==============================] - 5s 100us/step - loss: 0.8427 - accuracy: 0.7009 - val_loss: 1.4702 - val_accuracy: 0.5359\n",
      "Epoch 34/100\n",
      "50000/50000 [==============================] - 4s 82us/step - loss: 0.8106 - accuracy: 0.7140 - val_loss: 1.4827 - val_accuracy: 0.5381\n",
      "Epoch 35/100\n",
      "50000/50000 [==============================] - 4s 87us/step - loss: 0.7814 - accuracy: 0.7227 - val_loss: 1.4977 - val_accuracy: 0.5343\n",
      "Epoch 36/100\n",
      "50000/50000 [==============================] - 4s 89us/step - loss: 0.7527 - accuracy: 0.7336 - val_loss: 1.5473 - val_accuracy: 0.5224\n",
      "Epoch 37/100\n",
      "50000/50000 [==============================] - 4s 89us/step - loss: 0.7318 - accuracy: 0.7402 - val_loss: 1.5643 - val_accuracy: 0.5276\n",
      "Epoch 38/100\n",
      "50000/50000 [==============================] - 4s 85us/step - loss: 0.6890 - accuracy: 0.7570 - val_loss: 1.5929 - val_accuracy: 0.5312\n",
      "Epoch 39/100\n",
      "50000/50000 [==============================] - 4s 84us/step - loss: 0.6661 - accuracy: 0.7641 - val_loss: 1.6836 - val_accuracy: 0.5217\n",
      "Epoch 40/100\n",
      "50000/50000 [==============================] - 5s 100us/step - loss: 0.6413 - accuracy: 0.7737 - val_loss: 1.6877 - val_accuracy: 0.5330\n",
      "Epoch 41/100\n",
      "50000/50000 [==============================] - 4s 88us/step - loss: 0.6053 - accuracy: 0.7876 - val_loss: 1.7160 - val_accuracy: 0.5309\n",
      "Epoch 42/100\n",
      "50000/50000 [==============================] - 5s 90us/step - loss: 0.5821 - accuracy: 0.7972 - val_loss: 1.7564 - val_accuracy: 0.5218\n",
      "Epoch 43/100\n",
      "50000/50000 [==============================] - 4s 83us/step - loss: 0.5421 - accuracy: 0.8105 - val_loss: 1.8505 - val_accuracy: 0.5220\n",
      "Epoch 44/100\n",
      "50000/50000 [==============================] - 4s 88us/step - loss: 0.5224 - accuracy: 0.8181 - val_loss: 1.8960 - val_accuracy: 0.5219\n",
      "Epoch 45/100\n",
      "50000/50000 [==============================] - 5s 90us/step - loss: 0.5028 - accuracy: 0.8236 - val_loss: 1.9984 - val_accuracy: 0.5113\n",
      "Epoch 46/100\n",
      "50000/50000 [==============================] - 5s 91us/step - loss: 0.4729 - accuracy: 0.8365 - val_loss: 2.0056 - val_accuracy: 0.5244\n",
      "Epoch 47/100\n",
      "50000/50000 [==============================] - 4s 90us/step - loss: 0.4493 - accuracy: 0.8436 - val_loss: 2.0204 - val_accuracy: 0.5193\n",
      "Epoch 48/100\n",
      "50000/50000 [==============================] - 5s 92us/step - loss: 0.4246 - accuracy: 0.8498 - val_loss: 2.1449 - val_accuracy: 0.5165\n",
      "Epoch 49/100\n",
      "50000/50000 [==============================] - 5s 96us/step - loss: 0.4049 - accuracy: 0.8591 - val_loss: 2.2451 - val_accuracy: 0.5098\n",
      "Epoch 50/100\n",
      "50000/50000 [==============================] - 5s 91us/step - loss: 0.3787 - accuracy: 0.8676 - val_loss: 2.2645 - val_accuracy: 0.5234\n",
      "Epoch 51/100\n",
      "50000/50000 [==============================] - 5s 97us/step - loss: 0.3543 - accuracy: 0.8790 - val_loss: 2.4586 - val_accuracy: 0.5119\n",
      "Epoch 52/100\n",
      "50000/50000 [==============================] - 4s 87us/step - loss: 0.3471 - accuracy: 0.8797 - val_loss: 2.4578 - val_accuracy: 0.5187\n",
      "Epoch 53/100\n",
      "50000/50000 [==============================] - 5s 105us/step - loss: 0.3111 - accuracy: 0.8930 - val_loss: 2.5009 - val_accuracy: 0.5169\n",
      "Epoch 54/100\n",
      "50000/50000 [==============================] - 4s 90us/step - loss: 0.2968 - accuracy: 0.8992 - val_loss: 2.6359 - val_accuracy: 0.5070\n",
      "Epoch 55/100\n"
     ]
    },
    {
     "name": "stdout",
     "output_type": "stream",
     "text": [
      "50000/50000 [==============================] - 5s 98us/step - loss: 0.3011 - accuracy: 0.8951 - val_loss: 2.6896 - val_accuracy: 0.5115\n",
      "Epoch 56/100\n",
      "50000/50000 [==============================] - 5s 91us/step - loss: 0.2686 - accuracy: 0.9078 - val_loss: 2.7018 - val_accuracy: 0.5173\n",
      "Epoch 57/100\n",
      "50000/50000 [==============================] - 5s 100us/step - loss: 0.2631 - accuracy: 0.9102 - val_loss: 2.8723 - val_accuracy: 0.5083\n",
      "Epoch 58/100\n",
      "50000/50000 [==============================] - 5s 101us/step - loss: 0.2487 - accuracy: 0.9158 - val_loss: 2.8232 - val_accuracy: 0.5233\n",
      "Epoch 59/100\n",
      "50000/50000 [==============================] - 5s 95us/step - loss: 0.2325 - accuracy: 0.9197 - val_loss: 2.9521 - val_accuracy: 0.5148\n",
      "Epoch 60/100\n",
      "50000/50000 [==============================] - 4s 88us/step - loss: 0.2318 - accuracy: 0.9196 - val_loss: 3.0406 - val_accuracy: 0.5085\n",
      "Epoch 61/100\n",
      "50000/50000 [==============================] - 4s 88us/step - loss: 0.2350 - accuracy: 0.9172 - val_loss: 3.0591 - val_accuracy: 0.5152\n",
      "Epoch 62/100\n",
      "50000/50000 [==============================] - 5s 91us/step - loss: 0.2129 - accuracy: 0.9264 - val_loss: 3.0723 - val_accuracy: 0.5112\n",
      "Epoch 63/100\n",
      "50000/50000 [==============================] - 4s 87us/step - loss: 0.1848 - accuracy: 0.9371 - val_loss: 3.2662 - val_accuracy: 0.5095\n",
      "Epoch 64/100\n",
      "50000/50000 [==============================] - 4s 86us/step - loss: 0.1977 - accuracy: 0.9308 - val_loss: 3.3537 - val_accuracy: 0.5106\n",
      "Epoch 65/100\n",
      "50000/50000 [==============================] - 4s 84us/step - loss: 0.1927 - accuracy: 0.9335 - val_loss: 3.4336 - val_accuracy: 0.5154\n",
      "Epoch 66/100\n",
      "50000/50000 [==============================] - 5s 97us/step - loss: 0.1723 - accuracy: 0.9414 - val_loss: 3.3952 - val_accuracy: 0.5091\n",
      "Epoch 67/100\n",
      "50000/50000 [==============================] - 4s 88us/step - loss: 0.1933 - accuracy: 0.9333 - val_loss: 3.3884 - val_accuracy: 0.5172\n",
      "Epoch 68/100\n",
      "50000/50000 [==============================] - 4s 88us/step - loss: 0.1609 - accuracy: 0.9457 - val_loss: 3.5077 - val_accuracy: 0.5154\n",
      "Epoch 69/100\n",
      "48640/50000 [============================>.] - ETA: 0s - loss: 0.1520 - accuracy: 0.9483"
     ]
    }
   ],
   "source": [
    "model.fit(x_train, y_train, \n",
    "          epochs=EPOCHS, \n",
    "          batch_size=BATCH_SIZE, \n",
    "          validation_data=(x_test, y_test), \n",
    "          shuffle=True)"
   ]
  },
  {
   "cell_type": "code",
   "execution_count": 16,
   "metadata": {},
   "outputs": [
    {
     "data": {
      "image/png": "[encoded data removed]",
      "text/plain": [
       "<Figure size 432x288 with 1 Axes>"
      ]
     },
     "metadata": {
      "needs_background": "light"
     },
     "output_type": "display_data"
    },
    {
     "data": {
      "image/png": "[encoded data removed]",
      "text/plain": [
       "<Figure size 432x288 with 1 Axes>"
      ]
     },
     "metadata": {
      "needs_background": "light"
     },
     "output_type": "display_data"
    }
   ],
   "source": [
    "import matplotlib.pyplot as plt\n",
    "\n",
    "\n",
    "train_loss = model.history.history[\"loss\"]\n",
    "valid_loss = model.history.history[\"val_loss\"]\n",
    "\n",
    "train_acc = model.history.history[\"accuracy\"]\n",
    "valid_acc = model.history.history[\"val_accuracy\"]\n",
    "\n",
    "plt.plot(range(len(train_loss)), train_loss, label=\"train loss\")\n",
    "plt.plot(range(len(valid_loss)), valid_loss, label=\"valid loss\")\n",
    "plt.legend()\n",
    "plt.title(\"Loss\")\n",
    "plt.show()\n",
    "\n",
    "plt.plot(range(len(train_acc)), train_acc, label=\"train accuracy\")\n",
    "plt.plot(range(len(valid_acc)), valid_acc, label=\"valid accuracy\")\n",
    "plt.legend()\n",
    "plt.title(\"Accuracy\")\n",
    "plt.show()"
   ]
  },
  {
   "cell_type": "code",
   "execution_count": null,
   "metadata": {},
   "outputs": [],
   "source": []
  }
 ],
 "metadata": {
  "kernelspec": {
   "display_name": "Python 3",
   "language": "python",
   "name": "python3"
  },
  "language_info": {
   "codemirror_mode": {
    "name": "ipython",
    "version": 3
   },
   "file_extension": ".py",
   "mimetype": "text/x-python",
   "name": "python",
   "nbconvert_exporter": "python",
   "pygments_lexer": "ipython3",
   "version": "3.7.7"
  }
 },
 "nbformat": 4,
 "nbformat_minor": 2
}
