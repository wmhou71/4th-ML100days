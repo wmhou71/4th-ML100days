{
 "cells": [
  {
   "cell_type": "markdown",
   "metadata": {},
   "source": [
    "[作業目標]\n",
    "了解機器學習適合應用的領域與範疇。\n",
    "\n",
    "[作業重點]\n",
    "透過瞭解機器學習的運作方式，找出非常適用機器學習應用的領域及其原因\n",
    "\n",
    "作業\n",
    "請找出一個你認為機器學習可以發光發熱的領域並闡述原因?"
   ]
  },
  {
   "cell_type": "markdown",
   "metadata": {},
   "source": [
    "機器學習主要分為三大種類，監督式學習、非監督式學習與增強式學習；而要能應用在日常生活中，解決人們的痛點，才是真的有用的。  \n",
    "比如說在咖啡店的應用上，咖啡生豆要在一定的溫度與時間下烘烤，烘烤後的豆子也需要篩選出良豆，可以透過監度式學習圖片的方式，來區分兩者。  \n",
    "再者，影響咖啡的風味有許多因素，從生豆生長的環境、濕度，烘豆時的火候和時間的拿捏，磨豆時刀片粗細，手沖時熱水溫度和咖啡分浸潤的時間；   \n",
    "由多個維度影響，這亦可透過非監度式學習中降維，找出相關性最高的若干種原因，從中進行改良。"
   ]
  },
  {
   "cell_type": "code",
   "execution_count": null,
   "metadata": {},
   "outputs": [],
   "source": []
  }
 ],
 "metadata": {
  "kernelspec": {
   "display_name": "Python 3",
   "language": "python",
   "name": "python3"
  },
  "language_info": {
   "codemirror_mode": {
    "name": "ipython",
    "version": 3
   },
   "file_extension": ".py",
   "mimetype": "text/x-python",
   "name": "python",
   "nbconvert_exporter": "python",
   "pygments_lexer": "ipython3",
   "version": "3.6.5"
  }
 },
 "nbformat": 4,
 "nbformat_minor": 2
}
