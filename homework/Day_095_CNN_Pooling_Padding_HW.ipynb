{
 "cells": [
  {
   "cell_type": "markdown",
   "metadata": {},
   "source": [
    "# 作業目標:\n",
    "    了解 Padding 的作法\n",
    "    \n",
    "    了解 Pooling 的作法"
   ]
  },
  {
   "cell_type": "markdown",
   "metadata": {},
   "source": [
    "# 作業重點:\n",
    "    (1) 調整Padding 的設定, 看 Pad 後的結果\n",
    "    \n",
    "    (2) 調整Pooling 的設定, 看 Poolin 後的結果"
   ]
  },
  {
   "cell_type": "code",
   "execution_count": 1,
   "metadata": {},
   "outputs": [],
   "source": [
    "import numpy as np\n",
    "import h5py\n",
    "import matplotlib.pyplot as plt\n",
    "\n",
    "# 繪圖結果直接顯示在Jupyter cell 之內\n",
    "%matplotlib inline  \n",
    "plt.rcParams['figure.figsize'] = (5.0, 4.0) #  設定繪圖板的大小\n",
    "plt.rcParams['image.interpolation'] = 'nearest'\n",
    "plt.rcParams['image.cmap'] = 'gray'\n",
    "\n",
    "# autoreload。可以讓我們不退出IPython就動態修改代碼，在執行代碼前IPython會幫我們自動重載改動的模塊\n",
    "%load_ext autoreload\n",
    "%autoreload 2\n",
    "np.random.seed(1)"
   ]
  },
  {
   "cell_type": "code",
   "execution_count": 2,
   "metadata": {},
   "outputs": [],
   "source": [
    "# GRADED FUNCTION: zero_pad\n",
    "def zero_pad(X, pad):\n",
    "    \"\"\"\n",
    "    對image X 做 zero-padding. \n",
    "    參數定義如下:\n",
    "    X -- python numpy array, 呈現維度 (m, n_H, n_W, n_C), 代表一批 m 個圖像\n",
    "         n_H: 圖高, n_W: 圖寬, n_C: color channels 數\n",
    "    pad -- 整數, 加幾圈的 zero padding.\n",
    "    Returns:\n",
    "    X_pad -- image of shape (m, n_H + 2*pad, n_W + 2*pad, n_C) 做完zero-padding 的結果\n",
    "    \"\"\"\n",
    "    \n",
    "    X_pad = np.pad(X, ((0, 0), (pad, pad), (pad, pad), (0, 0)), 'constant', constant_values=(0, 0))\n",
    "  \n",
    "    return X_pad"
   ]
  },
  {
   "cell_type": "code",
   "execution_count": 3,
   "metadata": {},
   "outputs": [
    {
     "name": "stdout",
     "output_type": "stream",
     "text": [
      "[[[[ 1.62434536 -0.61175641 -0.52817175]\n",
      "   [-1.07296862  0.86540763 -2.3015387 ]\n",
      "   [ 1.74481176 -0.7612069   0.3190391 ]\n",
      "   [-0.24937038  1.46210794 -2.06014071]]\n",
      "\n",
      "  [[-0.3224172  -0.38405435  1.13376944]\n",
      "   [-1.09989127 -0.17242821 -0.87785842]\n",
      "   [ 0.04221375  0.58281521 -1.10061918]\n",
      "   [ 1.14472371  0.90159072  0.50249434]]\n",
      "\n",
      "  [[ 0.90085595 -0.68372786 -0.12289023]\n",
      "   [-0.93576943 -0.26788808  0.53035547]\n",
      "   [-0.69166075 -0.39675353 -0.6871727 ]\n",
      "   [-0.84520564 -0.67124613 -0.0126646 ]]\n",
      "\n",
      "  [[-1.11731035  0.2344157   1.65980218]\n",
      "   [ 0.74204416 -0.19183555 -0.88762896]\n",
      "   [-0.74715829  1.6924546   0.05080775]\n",
      "   [-0.63699565  0.19091548  2.10025514]]]\n",
      "\n",
      "\n",
      " [[[ 0.12015895  0.61720311  0.30017032]\n",
      "   [-0.35224985 -1.1425182  -0.34934272]\n",
      "   [-0.20889423  0.58662319  0.83898341]\n",
      "   [ 0.93110208  0.28558733  0.88514116]]\n",
      "\n",
      "  [[-0.75439794  1.25286816  0.51292982]\n",
      "   [-0.29809284  0.48851815 -0.07557171]\n",
      "   [ 1.13162939  1.51981682  2.18557541]\n",
      "   [-1.39649634 -1.44411381 -0.50446586]]\n",
      "\n",
      "  [[ 0.16003707  0.87616892  0.31563495]\n",
      "   [-2.02220122 -0.30620401  0.82797464]\n",
      "   [ 0.23009474  0.76201118 -0.22232814]\n",
      "   [-0.20075807  0.18656139  0.41005165]]\n",
      "\n",
      "  [[ 0.19829972  0.11900865 -0.67066229]\n",
      "   [ 0.37756379  0.12182127  1.12948391]\n",
      "   [ 1.19891788  0.18515642 -0.37528495]\n",
      "   [-0.63873041  0.42349435  0.07734007]]]\n",
      "\n",
      "\n",
      " [[[-0.34385368  0.04359686 -0.62000084]\n",
      "   [ 0.69803203 -0.44712856  1.2245077 ]\n",
      "   [ 0.40349164  0.59357852 -1.09491185]\n",
      "   [ 0.16938243  0.74055645 -0.9537006 ]]\n",
      "\n",
      "  [[-0.26621851  0.03261455 -1.37311732]\n",
      "   [ 0.31515939  0.84616065 -0.85951594]\n",
      "   [ 0.35054598 -1.31228341 -0.03869551]\n",
      "   [-1.61577235  1.12141771  0.40890054]]\n",
      "\n",
      "  [[-0.02461696 -0.77516162  1.27375593]\n",
      "   [ 1.96710175 -1.85798186  1.23616403]\n",
      "   [ 1.62765075  0.3380117  -1.19926803]\n",
      "   [ 0.86334532 -0.1809203  -0.60392063]]\n",
      "\n",
      "  [[-1.23005814  0.5505375   0.79280687]\n",
      "   [-0.62353073  0.52057634 -1.14434139]\n",
      "   [ 0.80186103  0.0465673  -0.18656977]\n",
      "   [-0.10174587  0.86888616  0.75041164]]]]\n"
     ]
    }
   ],
   "source": [
    "x = np.random.randn(3, 4, 4, 3)\n",
    "print(x)"
   ]
  },
  {
   "cell_type": "code",
   "execution_count": 11,
   "metadata": {},
   "outputs": [
    {
     "name": "stdout",
     "output_type": "stream",
     "text": [
      "x.shape = (3, 4, 4, 3)\n",
      "x_pad.shape = (3, 8, 8, 3)\n",
      "x[1,1] = [[-0.75439794  1.25286816  0.51292982]\n",
      " [-0.29809284  0.48851815 -0.07557171]\n",
      " [ 1.13162939  1.51981682  2.18557541]\n",
      " [-1.39649634 -1.44411381 -0.50446586]]\n",
      "x_pad[1,1] = [[0. 0. 0.]\n",
      " [0. 0. 0.]\n",
      " [0. 0. 0.]\n",
      " [0. 0. 0.]\n",
      " [0. 0. 0.]\n",
      " [0. 0. 0.]\n",
      " [0. 0. 0.]\n",
      " [0. 0. 0.]]\n"
     ]
    },
    {
     "data": {
      "text/plain": [
       "<matplotlib.image.AxesImage at 0x1db5b14dbc8>"
      ]
     },
     "execution_count": 11,
     "metadata": {},
     "output_type": "execute_result"
    },
    {
     "data": {
      "image/png": "[encoded data removed]",
      "text/plain": [
       "<Figure size 360x288 with 2 Axes>"
      ]
     },
     "metadata": {
      "needs_background": "light"
     },
     "output_type": "display_data"
    }
   ],
   "source": [
    "np.random.seed(1)\n",
    "\n",
    "x = np.random.randn(3, 4, 4, 3)\n",
    "x_pad = zero_pad(x, 2)\n",
    "\n",
    "print (\"x.shape =\", x.shape)\n",
    "print (\"x_pad.shape =\", x_pad.shape)\n",
    "print (\"x[1,1] =\", x[1,1])\n",
    "print (\"x_pad[1,1] =\", x_pad[1,1])\n",
    "\n",
    "fig, axarr = plt.subplots(1, 2)\n",
    "axarr[0].set_title('x')\n",
    "axarr[0].imshow(x[0,:,:,0])\n",
    "axarr[1].set_title('x_pad')\n",
    "axarr[1].imshow(x_pad[0,:,:,0])"
   ]
  },
  {
   "cell_type": "code",
   "execution_count": 12,
   "metadata": {},
   "outputs": [],
   "source": [
    "# GRADED FUNCTION: pool_forward\n",
    "def pool_forward(A_prev, hparameters, mode = \"max\"):\n",
    "    \"\"\"\n",
    "    設計一個前行網路的池化層\n",
    "    參數定義如下:\n",
    "    A_prev -- 輸入的numpy 陣列, 維度 (m, n_H_prev, n_W_prev, n_C_prev)\n",
    "    hparameter 超參數 --  \"f\" and \"stride\" 所形成的python 字典\n",
    "    mode -- 池化的模式: \"max\" or \"average\"\n",
    "    \n",
    "    返回:\n",
    "        A -- 輸出的池化層, 維度為 (m, n_H, n_W, n_C) 的 numpy 陣列\n",
    "        cache -- 可以應用在 backward pass pooling layer 資料, 包含 input and hparameter\n",
    "    \"\"\"\n",
    "\n",
    "    # 檢索尺寸 from the input shape\n",
    "    (m, n_H_prev, n_W_prev, n_C_prev) = A_prev.shape\n",
    " \n",
    "    # 檢索超參數 from \"hparameters\"\n",
    "    f = hparameters[\"f\"]\n",
    "    stride = hparameters[\"stride\"]\n",
    "\n",
    "    # 定義輸出的dimensions\n",
    "    n_H = int(1 + (n_H_prev - f) / stride)\n",
    "    n_W = int(1 + (n_W_prev - f) / stride)\n",
    "    n_C = n_C_prev\n",
    "\n",
    "    # 初始化輸出的 matrix A\n",
    "    A = np.zeros((m, n_H, n_W, n_C))\n",
    "\n",
    "    ### 程式起始位置  ###\n",
    "    for i in range(m): # 訓練樣本的for 迴圈\n",
    "        for h in range(n_H): # 輸出樣本的for 迴圈, 針對vertical axis\n",
    "            for w in range(n_W): #  輸出樣本的for 迴圈, 針對 horizontal axis\n",
    "                for c in range (n_C): #  輸出樣本的for 迴圈, 針對channels\n",
    "\n",
    "                     # 找出特徵圖的寬度跟高度四個點\n",
    "                    vert_start = h * stride\n",
    "                    vert_end = h * stride+ f\n",
    "                    horiz_start = w * stride\n",
    "                    horiz_end = w * stride + f\n",
    "\n",
    "                    # 定義第i個訓練示例\n",
    "                    a_prev_slice = A_prev[i, vert_start:vert_end, horiz_start:horiz_end,c]\n",
    "\n",
    "                    # 計算輸入data 的池化結果. 使用 if statment 去做分類\n",
    "                    if mode == \"max\":\n",
    "                        A[i, h, w, c] = np.max(a_prev_slice)\n",
    "                    elif mode == \"average\":\n",
    "                        A[i, h, w, c] = np.mean(a_prev_slice)\n",
    "\n",
    "                        ### 程式結束  ###\n",
    "    \n",
    "    # 儲存輸入的特徵圖跟所設定的超參數, 可以用在 pool_backward()\n",
    "    cache = (A_prev, hparameters)\n",
    "    \n",
    "    # 確認輸出的資料維度\n",
    "    assert(A.shape == (m, n_H, n_W, n_C))\n",
    "    return A, cache"
   ]
  },
  {
   "cell_type": "code",
   "execution_count": 17,
   "metadata": {},
   "outputs": [
    {
     "name": "stdout",
     "output_type": "stream",
     "text": [
      "mode = max\n",
      "A1 = [[[[ 1.62434536  0.86540763  1.13376944]\n",
      "   [ 1.74481176  0.86540763  0.3190391 ]\n",
      "   [ 1.74481176  1.46210794  0.50249434]]\n",
      "\n",
      "  [[ 0.90085595 -0.17242821  1.13376944]\n",
      "   [ 0.04221375  0.58281521  0.53035547]\n",
      "   [ 1.14472371  0.90159072  0.50249434]]\n",
      "\n",
      "  [[ 0.90085595  0.2344157   1.65980218]\n",
      "   [ 0.74204416  1.6924546   0.53035547]\n",
      "   [-0.63699565  1.6924546   2.10025514]]]\n",
      "\n",
      "\n",
      " [[[ 0.12015895  1.25286816  0.51292982]\n",
      "   [ 1.13162939  1.51981682  2.18557541]\n",
      "   [ 1.13162939  1.51981682  2.18557541]]\n",
      "\n",
      "  [[ 0.16003707  1.25286816  0.82797464]\n",
      "   [ 1.13162939  1.51981682  2.18557541]\n",
      "   [ 1.13162939  1.51981682  2.18557541]]\n",
      "\n",
      "  [[ 0.37756379  0.87616892  1.12948391]\n",
      "   [ 1.19891788  0.76201118  1.12948391]\n",
      "   [ 1.19891788  0.76201118  0.41005165]]]\n",
      "\n",
      "\n",
      " [[[ 0.69803203  0.84616065  1.2245077 ]\n",
      "   [ 0.69803203  0.84616065  1.2245077 ]\n",
      "   [ 0.40349164  1.12141771  0.40890054]]\n",
      "\n",
      "  [[ 1.96710175  0.84616065  1.27375593]\n",
      "   [ 1.96710175  0.84616065  1.23616403]\n",
      "   [ 1.62765075  1.12141771  0.40890054]]\n",
      "\n",
      "  [[ 1.96710175  0.5505375   1.27375593]\n",
      "   [ 1.96710175  0.52057634  1.23616403]\n",
      "   [ 1.62765075  0.86888616  0.75041164]]]]\n",
      "\n",
      "mode = average\n",
      "A2 = [[[[-0.21773293 -0.07570784 -0.64344986]\n",
      "   [-0.09645859  0.12864693 -0.9902443 ]\n",
      "   [ 0.67059471  0.54632674 -0.58480661]]\n",
      "\n",
      "  [[-0.36430549 -0.37702463  0.16584407]\n",
      "   [-0.67127693 -0.06356365 -0.53382371]\n",
      "   [-0.08748223  0.10410157 -0.32449053]]\n",
      "\n",
      "  [[-0.10254492 -0.22725895  0.29490961]\n",
      "   [-0.40813608  0.20899436 -0.24840961]\n",
      "   [-0.73025508  0.20384261  0.3628064 ]]]\n",
      "\n",
      "\n",
      " [[[-0.32114542  0.3040178   0.09704643]\n",
      "   [ 0.06809812  0.36310999  0.6499111 ]\n",
      "   [ 0.11433522  0.23697838  0.85130853]]\n",
      "\n",
      "  [[-0.72866373  0.5778378   0.39524192]\n",
      "   [-0.23964248  0.61603553  0.67891255]\n",
      "   [-0.05888257  0.2560689   0.46720826]]\n",
      "\n",
      "  [[-0.32157516  0.20269871  0.4006078 ]\n",
      "   [-0.0539062   0.19069621  0.33996136]\n",
      "   [ 0.14738103  0.38930584 -0.02755534]]]\n",
      "\n",
      "\n",
      " [[[ 0.10077981  0.11881087 -0.4070316 ]\n",
      "   [ 0.44180726 -0.0799182  -0.1921539 ]\n",
      "   [-0.17308808  0.28581732 -0.41960185]]\n",
      "\n",
      "  [[ 0.49785642 -0.43859207  0.06932167]\n",
      "   [ 1.06511447 -0.49652323 -0.21532886]\n",
      "   [ 0.30644242 -0.00844358 -0.35824591]]\n",
      "\n",
      "  [[ 0.02222398 -0.39050741  0.53959636]\n",
      "   [ 0.9432707  -0.23820663 -0.32350379]\n",
      "   [ 0.79777781  0.26813621 -0.3098367 ]]]]\n"
     ]
    }
   ],
   "source": [
    "np.random.seed(1)\n",
    "A_prev = np.random.randn(3, 4, 4, 3)\n",
    "hparameters = {\"stride\" : 1, \"f\": 2}\n",
    "\n",
    "A1, cache = pool_forward(A_prev, hparameters)\n",
    "print(\"mode = max\")\n",
    "print(\"A1 =\", A1)\n",
    "print()\n",
    "A2, cache = pool_forward(A_prev, hparameters, mode = \"average\")\n",
    "print(\"mode = average\")\n",
    "print(\"A2 =\", A2)"
   ]
  },
  {
   "cell_type": "code",
   "execution_count": 18,
   "metadata": {},
   "outputs": [
    {
     "data": {
      "text/plain": [
       "<matplotlib.image.AxesImage at 0x1db5b6b77c8>"
      ]
     },
     "execution_count": 18,
     "metadata": {},
     "output_type": "execute_result"
    },
    {
     "data": {
      "image/png": "[encoded data removed]",
      "text/plain": [
       "<Figure size 360x288 with 2 Axes>"
      ]
     },
     "metadata": {
      "needs_background": "light"
     },
     "output_type": "display_data"
    }
   ],
   "source": [
    "fig, axarr = plt.subplots(1, 2)\n",
    "axarr[0].set_title('Max')\n",
    "axarr[0].imshow(A1[0,:,:,0])\n",
    "axarr[1].set_title('Average')\n",
    "axarr[1].imshow(A2[0,:,:,0])"
   ]
  },
  {
   "cell_type": "code",
   "execution_count": null,
   "metadata": {},
   "outputs": [],
   "source": []
  }
 ],
 "metadata": {
  "kernelspec": {
   "display_name": "Python 3",
   "language": "python",
   "name": "python3"
  },
  "language_info": {
   "codemirror_mode": {
    "name": "ipython",
    "version": 3
   },
   "file_extension": ".py",
   "mimetype": "text/x-python",
   "name": "python",
   "nbconvert_exporter": "python",
   "pygments_lexer": "ipython3",
   "version": "3.7.7"
  }
 },
 "nbformat": 4,
 "nbformat_minor": 2
}
