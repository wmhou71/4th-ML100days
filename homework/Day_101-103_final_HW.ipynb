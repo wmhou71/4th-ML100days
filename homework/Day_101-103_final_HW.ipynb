{
 "cells": [
  {
   "cell_type": "code",
   "execution_count": 1,
   "metadata": {},
   "outputs": [
    {
     "name": "stderr",
     "output_type": "stream",
     "text": [
      "Using TensorFlow backend.\n"
     ]
    }
   ],
   "source": [
    "import numpy as np \n",
    "import pandas as pd \n",
    "import cv2\n",
    "import matplotlib.pyplot as plt\n",
    "import tensorflow as tf\n",
    "import os\n",
    "from keras.optimizers import RMSprop, Adam\n",
    "from tensorflow.keras.models import Sequential\n",
    "from tensorflow.keras.layers import Dense, Flatten, Dropout, Activation, Conv2D, MaxPooling2D\n",
    "\n",
    "os.environ[\"CUDA_VISIBLE_DEVICES\"] = \"0\" #指定使用編號GPU，預設是0\n",
    "cfg = tf.compat.v1.ConfigProto() \n",
    "cfg.gpu_options.per_process_gpu_memory_fraction = 0.5 # 使用50%的GPU暫存  \n",
    "session = tf.compat.v1.Session(config=cfg)"
   ]
  },
  {
   "cell_type": "code",
   "execution_count": 2,
   "metadata": {},
   "outputs": [],
   "source": [
    "def read_img(folder_name):\n",
    "    array_of_img, array_of_filename = [], [] # this if for store all of the image data\n",
    "    # this loop is for read each image in this foder,directory_name is the foder name with images.\n",
    "    for filename in os.listdir(r\"./\"+folder_name):\n",
    "        #print(filename) #just for test\n",
    "        #img is used to store the image data \n",
    "        img = cv2.imread(folder_name + \"/\" + filename)\n",
    "        new_img = cv2.resize(img, dsize=(64, 64))\n",
    "        array_of_img.append(new_img)\n",
    "        #print(img)\n",
    "    return array_of_img"
   ]
  },
  {
   "cell_type": "code",
   "execution_count": 3,
   "metadata": {},
   "outputs": [],
   "source": [
    "train_dir = \"data/Final exam competition/image_data/train\"\n",
    "path = os.path.join(train_dir)\n",
    "label = ['daisy', 'dandelion', 'rose', 'sunflower', 'tulip']\n",
    "img_train, label_train = [], []\n",
    "for classname in label:\n",
    "    img_class = read_img(train_dir + \"/\" + classname)\n",
    "    for i in range(len(img_class)):\n",
    "        img_train.append(img_class[i])\n",
    "        label_train.append(classname)"
   ]
  },
  {
   "cell_type": "code",
   "execution_count": 4,
   "metadata": {},
   "outputs": [],
   "source": [
    "batch_size = 32 # batch 的大小，如果出現 OOM error，請降低這個值\n",
    "num_classes = 5 # 類別的數量\n",
    "epochs = 50 # 訓練的 epochs 數量"
   ]
  },
  {
   "cell_type": "code",
   "execution_count": 5,
   "metadata": {},
   "outputs": [],
   "source": [
    "img_train = np.array(img_train)\n",
    "label_train = np.array(label_train)\n",
    "\n",
    "#Normalize data\n",
    "img_train = img_train/255.0"
   ]
  },
  {
   "cell_type": "code",
   "execution_count": 6,
   "metadata": {},
   "outputs": [
    {
     "data": {
      "text/plain": [
       "array([0, 0, 0, ..., 4, 4, 4], dtype=int64)"
      ]
     },
     "execution_count": 6,
     "metadata": {},
     "output_type": "execute_result"
    }
   ],
   "source": [
    "from sklearn.preprocessing import LabelEncoder\n",
    "labelencoder = LabelEncoder()\n",
    "label_train = labelencoder.fit_transform(label_train)\n",
    "label_train"
   ]
  },
  {
   "cell_type": "code",
   "execution_count": 7,
   "metadata": {},
   "outputs": [],
   "source": [
    "from sklearn.utils import shuffle\n",
    "img_train, label_train = shuffle(img_train, label_train) # loop 結束後，將資料順序打亂再重新循環\n",
    "\n",
    "from keras.preprocessing.image import ImageDataGenerator\n",
    "#建立 ImageDataGenerator，並指定我們要做資料增強的數值範圍\n",
    "data_generator = ImageDataGenerator(\n",
    "    rotation_range=20,\n",
    "    width_shift_range=0.2,\n",
    "    height_shift_range=0.2,\n",
    "    horizontal_flip=True)"
   ]
  },
  {
   "cell_type": "code",
   "execution_count": 8,
   "metadata": {},
   "outputs": [],
   "source": [
    "from sklearn.model_selection import train_test_split\n",
    "x_train, x_valid, y_train, y_valid = train_test_split(img_train, label_train, test_size=0.1, random_state=4)"
   ]
  },
  {
   "cell_type": "code",
   "execution_count": 9,
   "metadata": {},
   "outputs": [
    {
     "name": "stdout",
     "output_type": "stream",
     "text": [
      "Model: \"sequential\"\n",
      "_________________________________________________________________\n",
      "Layer (type)                 Output Shape              Param #   \n",
      "=================================================================\n",
      "conv2d (Conv2D)              (None, 64, 64, 32)        896       \n",
      "_________________________________________________________________\n",
      "activation (Activation)      (None, 64, 64, 32)        0         \n",
      "_________________________________________________________________\n",
      "conv2d_1 (Conv2D)            (None, 62, 62, 32)        9248      \n",
      "_________________________________________________________________\n",
      "activation_1 (Activation)    (None, 62, 62, 32)        0         \n",
      "_________________________________________________________________\n",
      "max_pooling2d (MaxPooling2D) (None, 31, 31, 32)        0         \n",
      "_________________________________________________________________\n",
      "dropout (Dropout)            (None, 31, 31, 32)        0         \n",
      "_________________________________________________________________\n",
      "conv2d_2 (Conv2D)            (None, 31, 31, 64)        18496     \n",
      "_________________________________________________________________\n",
      "activation_2 (Activation)    (None, 31, 31, 64)        0         \n",
      "_________________________________________________________________\n",
      "conv2d_3 (Conv2D)            (None, 29, 29, 64)        36928     \n",
      "_________________________________________________________________\n",
      "activation_3 (Activation)    (None, 29, 29, 64)        0         \n",
      "_________________________________________________________________\n",
      "max_pooling2d_1 (MaxPooling2 (None, 14, 14, 64)        0         \n",
      "_________________________________________________________________\n",
      "dropout_1 (Dropout)          (None, 14, 14, 64)        0         \n",
      "_________________________________________________________________\n",
      "conv2d_4 (Conv2D)            (None, 14, 14, 128)       73856     \n",
      "_________________________________________________________________\n",
      "activation_4 (Activation)    (None, 14, 14, 128)       0         \n",
      "_________________________________________________________________\n",
      "conv2d_5 (Conv2D)            (None, 12, 12, 128)       147584    \n",
      "_________________________________________________________________\n",
      "activation_5 (Activation)    (None, 12, 12, 128)       0         \n",
      "_________________________________________________________________\n",
      "max_pooling2d_2 (MaxPooling2 (None, 6, 6, 128)         0         \n",
      "_________________________________________________________________\n",
      "dropout_2 (Dropout)          (None, 6, 6, 128)         0         \n",
      "_________________________________________________________________\n",
      "flatten (Flatten)            (None, 4608)              0         \n",
      "_________________________________________________________________\n",
      "dense (Dense)                (None, 512)               2359808   \n",
      "_________________________________________________________________\n",
      "activation_6 (Activation)    (None, 512)               0         \n",
      "_________________________________________________________________\n",
      "dropout_3 (Dropout)          (None, 512)               0         \n",
      "_________________________________________________________________\n",
      "dense_1 (Dense)              (None, 5)                 2565      \n",
      "_________________________________________________________________\n",
      "activation_7 (Activation)    (None, 5)                 0         \n",
      "=================================================================\n",
      "Total params: 2,649,381\n",
      "Trainable params: 2,649,381\n",
      "Non-trainable params: 0\n",
      "_________________________________________________________________\n"
     ]
    }
   ],
   "source": [
    "model = Sequential()\n",
    "model.add(Conv2D(32, (3, 3), padding='same',\n",
    "                 input_shape=x_train.shape[1:]))\n",
    "model.add(Activation('relu'))\n",
    "model.add(Conv2D(32, (3, 3)))\n",
    "model.add(Activation('relu'))\n",
    "model.add(MaxPooling2D(pool_size=(2, 2)))\n",
    "model.add(Dropout(0.25))\n",
    "\n",
    "model.add(Conv2D(64, (3, 3), padding='same'))\n",
    "model.add(Activation('relu'))\n",
    "model.add(Conv2D(64, (3, 3)))\n",
    "model.add(Activation('relu'))\n",
    "model.add(MaxPooling2D(pool_size=(2, 2)))\n",
    "model.add(Dropout(0.25))\n",
    "\n",
    "model.add(Conv2D(128, (3, 3), padding='same'))\n",
    "model.add(Activation('relu'))\n",
    "model.add(Conv2D(128, (3, 3)))\n",
    "model.add(Activation('relu'))\n",
    "model.add(MaxPooling2D(pool_size=(2, 2)))\n",
    "model.add(Dropout(0.25))\n",
    "\n",
    "model.add(Flatten())\n",
    "model.add(Dense(512))\n",
    "model.add(Activation('relu'))\n",
    "model.add(Dropout(0.5))\n",
    "model.add(Dense(num_classes))\n",
    "model.add(Activation('softmax'))\n",
    "model.summary()\n",
    "\n",
    "model.compile(loss='sparse_categorical_crossentropy', optimizer=Adam(), metrics=['accuracy'])"
   ]
  },
  {
   "cell_type": "code",
   "execution_count": 10,
   "metadata": {},
   "outputs": [
    {
     "name": "stdout",
     "output_type": "stream",
     "text": [
      "Epoch 1/50\n",
      "79/79 [==============================] - 8s 96ms/step - loss: 1.4709 - accuracy: 0.3301 - val_loss: 1.4125 - val_accuracy: 0.3569\n",
      "Epoch 2/50\n",
      "79/79 [==============================] - 6s 76ms/step - loss: 1.3416 - accuracy: 0.3939 - val_loss: 1.3779 - val_accuracy: 0.3852\n",
      "Epoch 3/50\n",
      "79/79 [==============================] - 5s 68ms/step - loss: 1.2968 - accuracy: 0.4095 - val_loss: 1.2979 - val_accuracy: 0.4240\n",
      "Epoch 4/50\n",
      "79/79 [==============================] - 6s 72ms/step - loss: 1.2452 - accuracy: 0.4470 - val_loss: 1.1884 - val_accuracy: 0.5194\n",
      "Epoch 5/50\n",
      "79/79 [==============================] - 6s 70ms/step - loss: 1.1866 - accuracy: 0.4976 - val_loss: 1.2203 - val_accuracy: 0.4982\n",
      "Epoch 6/50\n",
      "79/79 [==============================] - 5s 69ms/step - loss: 1.1476 - accuracy: 0.5203 - val_loss: 1.1371 - val_accuracy: 0.5406\n",
      "Epoch 7/50\n",
      "79/79 [==============================] - 6s 72ms/step - loss: 1.1200 - accuracy: 0.5231 - val_loss: 1.0759 - val_accuracy: 0.6042\n",
      "Epoch 8/50\n",
      "79/79 [==============================] - 6s 73ms/step - loss: 1.1205 - accuracy: 0.5427 - val_loss: 1.0837 - val_accuracy: 0.6042\n",
      "Epoch 9/50\n",
      "79/79 [==============================] - 6s 73ms/step - loss: 1.0725 - accuracy: 0.5711 - val_loss: 1.0780 - val_accuracy: 0.5972\n",
      "Epoch 10/50\n",
      "79/79 [==============================] - 6s 71ms/step - loss: 1.0186 - accuracy: 0.6073 - val_loss: 1.0201 - val_accuracy: 0.6219\n",
      "Epoch 11/50\n",
      "79/79 [==============================] - 6s 77ms/step - loss: 1.0003 - accuracy: 0.6224 - val_loss: 0.9165 - val_accuracy: 0.6608\n",
      "Epoch 12/50\n",
      "79/79 [==============================] - 6s 75ms/step - loss: 0.9514 - accuracy: 0.6372 - val_loss: 0.9676 - val_accuracy: 0.6608\n",
      "Epoch 13/50\n",
      "79/79 [==============================] - 6s 75ms/step - loss: 0.9440 - accuracy: 0.6407 - val_loss: 0.8432 - val_accuracy: 0.6926\n",
      "Epoch 14/50\n",
      "79/79 [==============================] - 6s 75ms/step - loss: 0.9053 - accuracy: 0.6555 - val_loss: 0.8675 - val_accuracy: 0.6890\n",
      "Epoch 15/50\n",
      "79/79 [==============================] - 7s 92ms/step - loss: 0.8988 - accuracy: 0.6571 - val_loss: 0.8675 - val_accuracy: 0.6890\n",
      "Epoch 16/50\n",
      "79/79 [==============================] - 6s 80ms/step - loss: 0.8755 - accuracy: 0.6671 - val_loss: 0.9313 - val_accuracy: 0.6537\n",
      "Epoch 17/50\n",
      "79/79 [==============================] - 6s 80ms/step - loss: 0.8750 - accuracy: 0.6711 - val_loss: 0.8125 - val_accuracy: 0.6926\n",
      "Epoch 18/50\n",
      "79/79 [==============================] - 6s 80ms/step - loss: 0.8573 - accuracy: 0.6665 - val_loss: 0.7843 - val_accuracy: 0.7067\n",
      "Epoch 19/50\n",
      "79/79 [==============================] - 7s 83ms/step - loss: 0.8155 - accuracy: 0.6846 - val_loss: 0.8160 - val_accuracy: 0.7138\n",
      "Epoch 20/50\n",
      "79/79 [==============================] - 6s 78ms/step - loss: 0.8323 - accuracy: 0.6817 - val_loss: 0.8677 - val_accuracy: 0.6643\n",
      "Epoch 21/50\n",
      "79/79 [==============================] - 6s 78ms/step - loss: 0.8340 - accuracy: 0.6846 - val_loss: 0.7869 - val_accuracy: 0.7244\n",
      "Epoch 22/50\n",
      "79/79 [==============================] - 6s 74ms/step - loss: 0.7855 - accuracy: 0.6986 - val_loss: 0.8191 - val_accuracy: 0.7032\n",
      "Epoch 23/50\n",
      "79/79 [==============================] - 6s 77ms/step - loss: 0.8228 - accuracy: 0.6857 - val_loss: 0.7911 - val_accuracy: 0.7067\n",
      "Epoch 24/50\n",
      "79/79 [==============================] - 6s 76ms/step - loss: 0.7962 - accuracy: 0.7041 - val_loss: 0.7406 - val_accuracy: 0.7527\n",
      "Epoch 25/50\n",
      "79/79 [==============================] - 6s 78ms/step - loss: 0.7585 - accuracy: 0.7154 - val_loss: 0.7756 - val_accuracy: 0.7067\n",
      "Epoch 26/50\n",
      "79/79 [==============================] - 6s 78ms/step - loss: 0.7942 - accuracy: 0.7022 - val_loss: 0.7845 - val_accuracy: 0.7138\n",
      "Epoch 27/50\n",
      "79/79 [==============================] - 6s 77ms/step - loss: 0.7297 - accuracy: 0.7141 - val_loss: 0.7569 - val_accuracy: 0.7314\n",
      "Epoch 28/50\n",
      "79/79 [==============================] - 6s 79ms/step - loss: 0.7554 - accuracy: 0.7097 - val_loss: 0.7929 - val_accuracy: 0.7173\n",
      "Epoch 29/50\n",
      "79/79 [==============================] - 6s 80ms/step - loss: 0.7539 - accuracy: 0.7158 - val_loss: 0.8246 - val_accuracy: 0.7350\n",
      "Epoch 30/50\n",
      "79/79 [==============================] - 6s 78ms/step - loss: 0.7435 - accuracy: 0.7321 - val_loss: 0.7506 - val_accuracy: 0.7385\n",
      "Epoch 31/50\n",
      "79/79 [==============================] - 6s 78ms/step - loss: 0.7496 - accuracy: 0.7184 - val_loss: 0.8362 - val_accuracy: 0.6890\n",
      "Epoch 32/50\n",
      "79/79 [==============================] - 6s 75ms/step - loss: 0.7411 - accuracy: 0.7227 - val_loss: 0.7573 - val_accuracy: 0.7527\n",
      "Epoch 33/50\n",
      "79/79 [==============================] - 6s 81ms/step - loss: 0.7029 - accuracy: 0.7325 - val_loss: 0.8755 - val_accuracy: 0.6961\n",
      "Epoch 34/50\n",
      "79/79 [==============================] - 7s 87ms/step - loss: 0.7141 - accuracy: 0.7368 - val_loss: 0.7890 - val_accuracy: 0.7314\n",
      "Epoch 35/50\n",
      "79/79 [==============================] - 7s 85ms/step - loss: 0.6611 - accuracy: 0.7524 - val_loss: 0.7732 - val_accuracy: 0.7138\n",
      "Epoch 36/50\n",
      "79/79 [==============================] - 7s 83ms/step - loss: 0.7139 - accuracy: 0.7241 - val_loss: 0.7618 - val_accuracy: 0.7491\n",
      "Epoch 37/50\n",
      "79/79 [==============================] - 7s 86ms/step - loss: 0.7251 - accuracy: 0.7162 - val_loss: 0.7266 - val_accuracy: 0.7279\n",
      "Epoch 38/50\n",
      "79/79 [==============================] - 7s 82ms/step - loss: 0.7243 - accuracy: 0.7231 - val_loss: 0.7577 - val_accuracy: 0.7491\n",
      "Epoch 39/50\n",
      "79/79 [==============================] - 6s 82ms/step - loss: 0.6573 - accuracy: 0.7556 - val_loss: 0.7967 - val_accuracy: 0.7668\n",
      "Epoch 40/50\n",
      "79/79 [==============================] - 6s 76ms/step - loss: 0.7009 - accuracy: 0.7428 - val_loss: 0.7865 - val_accuracy: 0.7208\n",
      "Epoch 41/50\n",
      "79/79 [==============================] - 6s 79ms/step - loss: 0.6387 - accuracy: 0.7663 - val_loss: 0.7349 - val_accuracy: 0.7420\n",
      "Epoch 42/50\n",
      "79/79 [==============================] - 6s 74ms/step - loss: 0.6578 - accuracy: 0.7432 - val_loss: 0.8332 - val_accuracy: 0.6961\n",
      "Epoch 43/50\n",
      "79/79 [==============================] - 6s 77ms/step - loss: 0.6723 - accuracy: 0.7445 - val_loss: 0.7443 - val_accuracy: 0.7314\n",
      "Epoch 44/50\n",
      "79/79 [==============================] - 6s 75ms/step - loss: 0.6282 - accuracy: 0.7665 - val_loss: 0.7344 - val_accuracy: 0.7491\n",
      "Epoch 45/50\n",
      "79/79 [==============================] - 6s 78ms/step - loss: 0.6282 - accuracy: 0.7659 - val_loss: 0.7735 - val_accuracy: 0.7420\n",
      "Epoch 46/50\n",
      "79/79 [==============================] - 6s 79ms/step - loss: 0.6655 - accuracy: 0.7528 - val_loss: 0.7970 - val_accuracy: 0.7385\n",
      "Epoch 47/50\n",
      "79/79 [==============================] - 6s 77ms/step - loss: 0.6464 - accuracy: 0.7584 - val_loss: 0.7076 - val_accuracy: 0.7633\n",
      "Epoch 48/50\n",
      "79/79 [==============================] - 6s 75ms/step - loss: 0.5959 - accuracy: 0.7725 - val_loss: 0.8022 - val_accuracy: 0.7279\n",
      "Epoch 49/50\n",
      "79/79 [==============================] - 6s 79ms/step - loss: 0.6673 - accuracy: 0.7416 - val_loss: 0.7620 - val_accuracy: 0.7420\n",
      "Epoch 50/50\n",
      "79/79 [==============================] - 6s 75ms/step - loss: 0.5923 - accuracy: 0.7747 - val_loss: 0.7192 - val_accuracy: 0.7668\n",
      "Test loss: 0.7211511819606956\n",
      "Test accuracy: 0.7667844\n"
     ]
    },
    {
     "data": {
      "image/png": "[encoded data removed]",
      "text/plain": [
       "<Figure size 432x288 with 1 Axes>"
      ]
     },
     "metadata": {
      "needs_background": "light"
     },
     "output_type": "display_data"
    },
    {
     "data": {
      "image/png": "[encoded data removed]",
      "text/plain": [
       "<Figure size 432x288 with 1 Axes>"
      ]
     },
     "metadata": {
      "needs_background": "light"
     },
     "output_type": "display_data"
    }
   ],
   "source": [
    "history = model.fit_generator(data_generator.flow(x_train, y_train, batch_size=batch_size),\n",
    "                    steps_per_epoch=int(len(x_train)/batch_size),  # 一個 epochs 要執行幾次 update，通常是資料量除以 batch size\n",
    "                    epochs=epochs,\n",
    "                    verbose=1,\n",
    "                    validation_data=(x_valid, y_valid))\n",
    "score = model.evaluate(x_valid, y_valid, verbose=0)\n",
    "print('Test loss:', score[0])\n",
    "print('Test accuracy:', score[1])\n",
    "\n",
    "plt.plot(history.history['accuracy'],label='acc')\n",
    "plt.plot(history.history['val_accuracy'], label='val_acc')\n",
    "plt.legend(loc=2)\n",
    "plt.show()\n",
    "plt.plot(history.history['loss'],label='loss')\n",
    "plt.plot(history.history['val_loss'], label='val_loss')\n",
    "plt.legend(loc=2)\n",
    "plt.show()"
   ]
  },
  {
   "cell_type": "code",
   "execution_count": 13,
   "metadata": {},
   "outputs": [],
   "source": [
    "test_dir = \"data/Final exam competition/image_data/test\"\n",
    "path = os.path.join(test_dir)\n",
    "img_test = read_img(test_dir)\n",
    "\n",
    "img_test = np.array(img_test)\n",
    "x_test = img_test/255.0\n",
    "y_prediction = model.predict(x_test)\n",
    "y_prediction = np.argmax(y_prediction, axis = 1)"
   ]
  },
  {
   "cell_type": "code",
   "execution_count": 14,
   "metadata": {},
   "outputs": [],
   "source": [
    "array_of_filename = [] # this if for store all of the image data\n",
    "# this loop is for read each image in this foder,directory_name is the foder name with images.\n",
    "for filename in os.listdir(r\"./data/Final exam competition/image_data/test\"): \n",
    "    array_of_filename.append(filename.split(\".\")[0])"
   ]
  },
  {
   "cell_type": "code",
   "execution_count": 15,
   "metadata": {},
   "outputs": [
    {
     "name": "stdout",
     "output_type": "stream",
     "text": [
      "                                    id  flower_class\n",
      "0     0028624c49b3e0610ff9f1d111f5d532             2\n",
      "1     002c30700185b7971369258b438070d5             4\n",
      "2     00852f4f666acecd0c0d140365b42efd             4\n",
      "3     00c08828fce04e360c732cac01edad9e             4\n",
      "4     00d366e7877b6a78b104b57d67b60e6b             2\n",
      "...                                ...           ...\n",
      "1995  ff7eac29b6d7a33fbd8009677c3e9c58             1\n",
      "1996  ffbc32a7b67dfe72b8d35d4b1b35fd6c             1\n",
      "1997  ffea1f275c05accb0a6bfd1203620c7e             0\n",
      "1998  ffeb2a1cf53464b6af937ab8af0c2946             3\n",
      "1999  ffefcc68e2e7eed8b17b0b5b0f740538             4\n",
      "\n",
      "[2000 rows x 2 columns]\n"
     ]
    }
   ],
   "source": [
    "#submit\n",
    "submit = pd.DataFrame(columns = ['id', 'flower_class'])\n",
    "submit['id'] = pd.DataFrame(array_of_filename)[0]\n",
    "submit['flower_class'] = pd.DataFrame(y_prediction)[0]\n",
    "print(submit)\n",
    "submit.to_csv('submit_final.csv', index= False)"
   ]
  },
  {
   "cell_type": "code",
   "execution_count": 11,
   "metadata": {},
   "outputs": [],
   "source": [
    "# 顯示圖片\n",
    "cv2.imshow('train_2', x_train[2])\n",
    "cv2.waitKey(0)\n",
    "cv2.destroyAllWindows()"
   ]
  }
 ],
 "metadata": {
  "kernelspec": {
   "display_name": "Python [conda env:ML_env] *",
   "language": "python",
   "name": "conda-env-ML_env-py"
  },
  "language_info": {
   "codemirror_mode": {
    "name": "ipython",
    "version": 3
   },
   "file_extension": ".py",
   "mimetype": "text/x-python",
   "name": "python",
   "nbconvert_exporter": "python",
   "pygments_lexer": "ipython3",
   "version": "3.7.7"
  }
 },
 "nbformat": 4,
 "nbformat_minor": 4
}
