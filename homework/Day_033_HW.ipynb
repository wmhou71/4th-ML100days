{
 "cells": [
  {
   "cell_type": "markdown",
   "metadata": {},
   "source": [
    "1. 模型的泛化能力 (generalization) 是指什麼？  \n",
    "機器學習演算法對未知樣本的適應能力。目的是學到隱含在資料背後的規律，對training set以外相同性質的資料，也能做出接近真實的預測    \n",
    "  \n",
    "2. 分類問題與回歸問題分別可用的目標函數有哪些？  \n",
    "分類問題:cross-entropy  \n",
    "回歸問題:MSE, MAE"
   ]
  }
 ],
 "metadata": {
  "kernelspec": {
   "display_name": "Python 3",
   "language": "python",
   "name": "python3"
  },
  "language_info": {
   "codemirror_mode": {
    "name": "ipython",
    "version": 3
   },
   "file_extension": ".py",
   "mimetype": "text/x-python",
   "name": "python",
   "nbconvert_exporter": "python",
   "pygments_lexer": "ipython3",
   "version": "3.6.5"
  }
 },
 "nbformat": 4,
 "nbformat_minor": 2
}
