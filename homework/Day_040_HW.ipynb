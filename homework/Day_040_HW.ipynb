{
 "cells": [
  {
   "cell_type": "markdown",
   "metadata": {},
   "source": [
    "## [作業重點]\n",
    "使用 Sklearn 中的 Lasso, Ridge 模型，來訓練各種資料集，務必了解送進去模型訓練的資料型態為何，也請了解模型中各項參數的意義。  \n",
    "  \n",
    "機器學習的模型非常多種，但要訓練的資料多半有固定的格式，確保你了解訓練資料的格式為何，這樣在應用新模型時，就能夠最快的上手開始訓練！  "
   ]
  },
  {
   "cell_type": "markdown",
   "metadata": {},
   "source": [
    "## 練習時間\n",
    "試著使用 sklearn datasets 的其他資料集 (boston, ...)，來訓練自己的線性迴歸模型，並加上適當的正則化來觀察訓練情形。"
   ]
  },
  {
   "cell_type": "code",
   "execution_count": 1,
   "metadata": {},
   "outputs": [],
   "source": [
    "import numpy as np\n",
    "import matplotlib.pyplot as plt\n",
    "from sklearn import datasets, linear_model\n",
    "from sklearn.model_selection import train_test_split\n",
    "from sklearn.metrics import mean_squared_error, r2_score"
   ]
  },
  {
   "cell_type": "code",
   "execution_count": 2,
   "metadata": {},
   "outputs": [],
   "source": [
    "# 讀取資料集\n",
    "boston = datasets.load_boston()\n",
    "wine = datasets.load_wine()\n",
    "breast_cancer = datasets.load_breast_cancer()\n",
    "\n",
    "# 切分訓練集/測試集\n",
    "x_train, x_test, y_train, y_test = train_test_split(boston.data, boston.target, test_size=0.2, random_state=4)\n"
   ]
  },
  {
   "cell_type": "code",
   "execution_count": 3,
   "metadata": {},
   "outputs": [
    {
     "name": "stdout",
     "output_type": "stream",
     "text": [
      "[-1.14743504e-01  4.70875035e-02  8.70282354e-03  3.23818824e+00\n",
      " -1.67240567e+01  3.87662996e+00 -1.08218769e-02 -1.54144627e+00\n",
      "  2.92604151e-01 -1.33989537e-02 -9.07306805e-01  8.91271054e-03\n",
      " -4.58747039e-01]\n",
      "Linear Regression - Mean squared error: 25.41\n"
     ]
    }
   ],
   "source": [
    "# 建立一個線性回歸模型，將訓練資料丟進去模型訓練，將測試資料丟進模型得到預測結果\n",
    "regr = linear_model.LinearRegression()\n",
    "regr.fit(x_train, y_train)\n",
    "y_pred = regr.predict(x_test)\n",
    "print(regr.coef_)\n",
    "\n",
    "# 預測值與實際值的差距，使用 MSE\n",
    "print(\"Linear Regression - Mean squared error: %.2f\"\n",
    "      % mean_squared_error(y_test, y_pred))"
   ]
  },
  {
   "cell_type": "code",
   "execution_count": 16,
   "metadata": {},
   "outputs": [
    {
     "name": "stdout",
     "output_type": "stream",
     "text": [
      "alpha: 0.05\n",
      "[-0.1054937   0.04869054 -0.0540257   2.04173046 -0.41657694  3.93029309\n",
      " -0.0232722  -1.27221411  0.25449351 -0.01472222 -0.74274611  0.00969627\n",
      " -0.48570035]\n",
      "Lasso Regression - Mean squared error: 26.43\n",
      "[-1.14422715e-01  4.71530679e-02  5.90063552e-03  3.21886746e+00\n",
      " -1.60919098e+01  3.88180571e+00 -1.13932033e-02 -1.53216747e+00\n",
      "  2.90992480e-01 -1.34381914e-02 -9.00735792e-01  8.94246483e-03\n",
      " -4.59398689e-01]\n",
      "Ridge Regression - Mean squared error: 25.43\n",
      "alpha: 0.1\n",
      "[-0.10460997  0.04881541 -0.04507749  1.15331258 -0.          3.81707075\n",
      " -0.02085665 -1.23526694  0.25920388 -0.01516558 -0.74728244  0.00973548\n",
      " -0.4998582 ]\n",
      "Lasso Regression - Mean squared error: 26.44\n",
      "[-1.14125970e-01  4.72144095e-02  3.30466957e-03  3.20052271e+00\n",
      " -1.55057123e+01  3.88649056e+00 -1.19216295e-02 -1.52356227e+00\n",
      "  2.89503886e-01 -1.34748440e-02 -8.94652812e-01  8.97004994e-03\n",
      " -4.60013401e-01]\n",
      "Ridge Regression - Mean squared error: 25.44\n",
      "alpha: 0.15\n",
      "[-0.10394362  0.04890272 -0.0342692   0.27300073 -0.          3.69942277\n",
      " -0.01804929 -1.20443905  0.26502009 -0.01558494 -0.75623805  0.00975496\n",
      " -0.51368641]\n",
      "Lasso Regression - Mean squared error: 26.54\n",
      "[-1.13850733e-01  4.72719714e-02  8.93209771e-04  3.18305414e+00\n",
      " -1.49606307e+01  3.89073620e+00 -1.24116716e-02 -1.51555980e+00\n",
      "  2.88125393e-01 -1.35091822e-02 -8.89006478e-01  8.99569368e-03\n",
      " -4.60595042e-01]\n",
      "Ridge Regression - Mean squared error: 25.46\n",
      "alpha: 0.2\n",
      "[-0.10208028  0.04886199 -0.028844    0.         -0.          3.55905306\n",
      " -0.01572114 -1.17314219  0.26573181 -0.01573771 -0.756338    0.00967492\n",
      " -0.52570364]\n",
      "Lasso Regression - Mean squared error: 26.59\n",
      "[-1.13594812e-01  4.73261361e-02 -1.35251700e-03  3.16637540e+00\n",
      " -1.44524864e+01  3.89458731e+00 -1.28672334e-02 -1.50809881e+00\n",
      "  2.86845788e-01 -1.35414397e-02 -8.83752369e-01  9.01959298e-03\n",
      " -4.61146953e-01]\n",
      "Ridge Regression - Mean squared error: 25.48\n"
     ]
    }
   ],
   "source": [
    "for i in range(4):\n",
    "    alpha= (i+1)*5/100\n",
    "    print(\"alpha:\", alpha)\n",
    "    # 建立一個線性回歸模型\n",
    "    lasso = linear_model.Lasso(alpha)\n",
    "    lasso.fit(x_train, y_train)\n",
    "    y_pred = lasso.predict(x_test)\n",
    "\n",
    "     # 印出各特徵對應的係數，可以看到許多係數都變成 0，Lasso Regression 的確可以做特徵選取\n",
    "    print(lasso.coef_)\n",
    "\n",
    "    # 預測值與實際值的差距，使用 MSE\n",
    "    print(\"Lasso Regression - Mean squared error: %.2f\"\n",
    "          % mean_squared_error(y_test, y_pred))\n",
    "\n",
    "    # 建立一個線性回歸模型\n",
    "    ridge = linear_model.Ridge(alpha)\n",
    "    ridge.fit(x_train, y_train)\n",
    "    y_pred = ridge.predict(x_test)\n",
    "\n",
    "    # 印出 Ridge 的參數，\n",
    "    print(ridge.coef_)\n",
    "\n",
    "    # 預測值與實際值的差距，使用 MSE\n",
    "    print(\"Ridge Regression - Mean squared error: %.2f\"\n",
    "          % mean_squared_error(y_test, y_pred))"
   ]
  },
  {
   "cell_type": "markdown",
   "metadata": {},
   "source": [
    "比較各model與alpha值，MSE最小為ridge regression & alpha=0.05"
   ]
  }
 ],
 "metadata": {
  "kernelspec": {
   "display_name": "Python 3",
   "language": "python",
   "name": "python3"
  },
  "language_info": {
   "codemirror_mode": {
    "name": "ipython",
    "version": 3
   },
   "file_extension": ".py",
   "mimetype": "text/x-python",
   "name": "python",
   "nbconvert_exporter": "python",
   "pygments_lexer": "ipython3",
   "version": "3.6.5"
  }
 },
 "nbformat": 4,
 "nbformat_minor": 2
}
